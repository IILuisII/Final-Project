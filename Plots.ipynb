{
 "cells": [
  {
   "cell_type": "code",
   "execution_count": 1,
   "metadata": {},
   "outputs": [],
   "source": [
    "import numpy as np\n",
    "import pandas as pd\n",
    "import seaborn as sn"
   ]
  },
  {
   "cell_type": "code",
   "execution_count": 2,
   "metadata": {},
   "outputs": [
    {
     "data": {
      "text/html": [
       "<div>\n",
       "<style scoped>\n",
       "    .dataframe tbody tr th:only-of-type {\n",
       "        vertical-align: middle;\n",
       "    }\n",
       "\n",
       "    .dataframe tbody tr th {\n",
       "        vertical-align: top;\n",
       "    }\n",
       "\n",
       "    .dataframe thead th {\n",
       "        text-align: right;\n",
       "    }\n",
       "</style>\n",
       "<table border=\"1\" class=\"dataframe\">\n",
       "  <thead>\n",
       "    <tr style=\"text-align: right;\">\n",
       "      <th></th>\n",
       "      <th>Itinerary_ID</th>\n",
       "      <th>Qtr_Year</th>\n",
       "      <th>Year</th>\n",
       "      <th>Quarter</th>\n",
       "      <th>Number_Coupons</th>\n",
       "      <th>Origin_Airport_ID</th>\n",
       "      <th>Origin_Airport_Seq_ID</th>\n",
       "      <th>Origin_City_Market_ID</th>\n",
       "      <th>Origin</th>\n",
       "      <th>Origin_State</th>\n",
       "      <th>...</th>\n",
       "      <th>Origin_Airport</th>\n",
       "      <th>Origin_City</th>\n",
       "      <th>Origin_Lat</th>\n",
       "      <th>Origin_Long</th>\n",
       "      <th>Destination_Airport</th>\n",
       "      <th>Destination_City</th>\n",
       "      <th>State</th>\n",
       "      <th>Country</th>\n",
       "      <th>Destination_Lat</th>\n",
       "      <th>Destination_Long</th>\n",
       "    </tr>\n",
       "  </thead>\n",
       "  <tbody>\n",
       "    <tr>\n",
       "      <th>0</th>\n",
       "      <td>20171122129</td>\n",
       "      <td>Q1-2017</td>\n",
       "      <td>2017</td>\n",
       "      <td>1</td>\n",
       "      <td>2</td>\n",
       "      <td>13930</td>\n",
       "      <td>1393004</td>\n",
       "      <td>30977</td>\n",
       "      <td>ORD</td>\n",
       "      <td>IL</td>\n",
       "      <td>...</td>\n",
       "      <td>Chicago O'Hare International Airport</td>\n",
       "      <td>Chicago</td>\n",
       "      <td>41.9796</td>\n",
       "      <td>-87.90446</td>\n",
       "      <td>Austin-Bergstrom International Airport</td>\n",
       "      <td>Austin</td>\n",
       "      <td>TX</td>\n",
       "      <td>USA</td>\n",
       "      <td>30.19453</td>\n",
       "      <td>-97.66987</td>\n",
       "    </tr>\n",
       "    <tr>\n",
       "      <th>1</th>\n",
       "      <td>20171122086</td>\n",
       "      <td>Q1-2017</td>\n",
       "      <td>2017</td>\n",
       "      <td>1</td>\n",
       "      <td>4</td>\n",
       "      <td>13930</td>\n",
       "      <td>1393004</td>\n",
       "      <td>30977</td>\n",
       "      <td>ORD</td>\n",
       "      <td>IL</td>\n",
       "      <td>...</td>\n",
       "      <td>Chicago O'Hare International Airport</td>\n",
       "      <td>Chicago</td>\n",
       "      <td>41.9796</td>\n",
       "      <td>-87.90446</td>\n",
       "      <td>Austin-Bergstrom International Airport</td>\n",
       "      <td>Austin</td>\n",
       "      <td>TX</td>\n",
       "      <td>USA</td>\n",
       "      <td>30.19453</td>\n",
       "      <td>-97.66987</td>\n",
       "    </tr>\n",
       "    <tr>\n",
       "      <th>2</th>\n",
       "      <td>20171122803</td>\n",
       "      <td>Q1-2017</td>\n",
       "      <td>2017</td>\n",
       "      <td>1</td>\n",
       "      <td>4</td>\n",
       "      <td>13930</td>\n",
       "      <td>1393004</td>\n",
       "      <td>30977</td>\n",
       "      <td>ORD</td>\n",
       "      <td>IL</td>\n",
       "      <td>...</td>\n",
       "      <td>Chicago O'Hare International Airport</td>\n",
       "      <td>Chicago</td>\n",
       "      <td>41.9796</td>\n",
       "      <td>-87.90446</td>\n",
       "      <td>Austin-Bergstrom International Airport</td>\n",
       "      <td>Austin</td>\n",
       "      <td>TX</td>\n",
       "      <td>USA</td>\n",
       "      <td>30.19453</td>\n",
       "      <td>-97.66987</td>\n",
       "    </tr>\n",
       "    <tr>\n",
       "      <th>3</th>\n",
       "      <td>20172143270</td>\n",
       "      <td>Q2-2017</td>\n",
       "      <td>2017</td>\n",
       "      <td>2</td>\n",
       "      <td>3</td>\n",
       "      <td>13930</td>\n",
       "      <td>1393004</td>\n",
       "      <td>30977</td>\n",
       "      <td>ORD</td>\n",
       "      <td>IL</td>\n",
       "      <td>...</td>\n",
       "      <td>Chicago O'Hare International Airport</td>\n",
       "      <td>Chicago</td>\n",
       "      <td>41.9796</td>\n",
       "      <td>-87.90446</td>\n",
       "      <td>Austin-Bergstrom International Airport</td>\n",
       "      <td>Austin</td>\n",
       "      <td>TX</td>\n",
       "      <td>USA</td>\n",
       "      <td>30.19453</td>\n",
       "      <td>-97.66987</td>\n",
       "    </tr>\n",
       "    <tr>\n",
       "      <th>4</th>\n",
       "      <td>20172147951</td>\n",
       "      <td>Q2-2017</td>\n",
       "      <td>2017</td>\n",
       "      <td>2</td>\n",
       "      <td>2</td>\n",
       "      <td>13930</td>\n",
       "      <td>1393004</td>\n",
       "      <td>30977</td>\n",
       "      <td>ORD</td>\n",
       "      <td>IL</td>\n",
       "      <td>...</td>\n",
       "      <td>Chicago O'Hare International Airport</td>\n",
       "      <td>Chicago</td>\n",
       "      <td>41.9796</td>\n",
       "      <td>-87.90446</td>\n",
       "      <td>Austin-Bergstrom International Airport</td>\n",
       "      <td>Austin</td>\n",
       "      <td>TX</td>\n",
       "      <td>USA</td>\n",
       "      <td>30.19453</td>\n",
       "      <td>-97.66987</td>\n",
       "    </tr>\n",
       "  </tbody>\n",
       "</table>\n",
       "<p>5 rows × 33 columns</p>\n",
       "</div>"
      ],
      "text/plain": [
       "   Itinerary_ID Qtr_Year  Year  Quarter  Number_Coupons  Origin_Airport_ID  \\\n",
       "0   20171122129  Q1-2017  2017        1               2              13930   \n",
       "1   20171122086  Q1-2017  2017        1               4              13930   \n",
       "2   20171122803  Q1-2017  2017        1               4              13930   \n",
       "3   20172143270  Q2-2017  2017        2               3              13930   \n",
       "4   20172147951  Q2-2017  2017        2               2              13930   \n",
       "\n",
       "   Origin_Airport_Seq_ID  Origin_City_Market_ID Origin Origin_State  ...  \\\n",
       "0                1393004                  30977    ORD           IL  ...   \n",
       "1                1393004                  30977    ORD           IL  ...   \n",
       "2                1393004                  30977    ORD           IL  ...   \n",
       "3                1393004                  30977    ORD           IL  ...   \n",
       "4                1393004                  30977    ORD           IL  ...   \n",
       "\n",
       "                         Origin_Airport  Origin_City  Origin_Lat  Origin_Long  \\\n",
       "0  Chicago O'Hare International Airport      Chicago     41.9796    -87.90446   \n",
       "1  Chicago O'Hare International Airport      Chicago     41.9796    -87.90446   \n",
       "2  Chicago O'Hare International Airport      Chicago     41.9796    -87.90446   \n",
       "3  Chicago O'Hare International Airport      Chicago     41.9796    -87.90446   \n",
       "4  Chicago O'Hare International Airport      Chicago     41.9796    -87.90446   \n",
       "\n",
       "                      Destination_Airport Destination_City  State  Country  \\\n",
       "0  Austin-Bergstrom International Airport           Austin     TX      USA   \n",
       "1  Austin-Bergstrom International Airport           Austin     TX      USA   \n",
       "2  Austin-Bergstrom International Airport           Austin     TX      USA   \n",
       "3  Austin-Bergstrom International Airport           Austin     TX      USA   \n",
       "4  Austin-Bergstrom International Airport           Austin     TX      USA   \n",
       "\n",
       "   Destination_Lat Destination_Long  \n",
       "0         30.19453        -97.66987  \n",
       "1         30.19453        -97.66987  \n",
       "2         30.19453        -97.66987  \n",
       "3         30.19453        -97.66987  \n",
       "4         30.19453        -97.66987  \n",
       "\n",
       "[5 rows x 33 columns]"
      ]
     },
     "execution_count": 2,
     "metadata": {},
     "output_type": "execute_result"
    }
   ],
   "source": [
    "flightsDf = pd.read_csv(\"flightData.csv\")\n",
    "flightsDf.head()"
   ]
  },
  {
   "cell_type": "code",
   "execution_count": 3,
   "metadata": {},
   "outputs": [
    {
     "name": "stderr",
     "output_type": "stream",
     "text": [
      "C:\\Users\\kylec\\anaconda3\\lib\\site-packages\\seaborn\\distributions.py:369: UserWarning: Default bandwidth for data is 0; skipping density estimation.\n",
      "  warnings.warn(msg, UserWarning)\n"
     ]
    },
    {
     "data": {
      "image/png": "[encoded data removed]",
      "text/plain": [
       "<Figure size 432x288 with 1 Axes>"
      ]
     },
     "metadata": {
      "needs_background": "light"
     },
     "output_type": "display_data"
    }
   ],
   "source": [
    "x = pd.Series(flightsDf['Number_Passengers'], name=\"Number of Tickets Ordered\")\n",
    "ax = sn.distplot(x)"
   ]
  },
  {
   "cell_type": "code",
   "execution_count": 4,
   "metadata": {},
   "outputs": [
    {
     "data": {
      "image/png": "[encoded data removed]",
      "text/plain": [
       "<Figure size 432x288 with 1 Axes>"
      ]
     },
     "metadata": {
      "needs_background": "light"
     },
     "output_type": "display_data"
    }
   ],
   "source": [
    "x = pd.Series(flightsDf['Flight_Distance'], name=\"Miles Flown\")\n",
    "ax = sn.distplot(x)"
   ]
  },
  {
   "cell_type": "code",
   "execution_count": 5,
   "metadata": {},
   "outputs": [
    {
     "data": {
      "image/png": "[encoded data removed]",
      "text/plain": [
       "<Figure size 432x288 with 1 Axes>"
      ]
     },
     "metadata": {
      "needs_background": "light"
     },
     "output_type": "display_data"
    }
   ],
   "source": [
    "x = pd.Series(flightsDf['Fare'], name=\"Ticket Price Per Person\")\n",
    "ax = sn.distplot(x)"
   ]
  },
  {
   "cell_type": "code",
   "execution_count": 6,
   "metadata": {},
   "outputs": [
    {
     "data": {
      "image/png": "[encoded data removed]",
      "text/plain": [
       "<Figure size 432x288 with 1 Axes>"
      ]
     },
     "metadata": {
      "needs_background": "light"
     },
     "output_type": "display_data"
    }
   ],
   "source": [
    "x = pd.Series(flightsDf['Number_Coupons'], name=\"Coupons Per Ticket\")\n",
    "ax = sn.distplot(x)"
   ]
  },
  {
   "cell_type": "code",
   "execution_count": null,
   "metadata": {},
   "outputs": [],
   "source": []
  }
 ],
 "metadata": {
  "kernelspec": {
   "display_name": "Python 3",
   "language": "python",
   "name": "python3"
  },
  "language_info": {
   "codemirror_mode": {
    "name": "ipython",
    "version": 3
   },
   "file_extension": ".py",
   "mimetype": "text/x-python",
   "name": "python",
   "nbconvert_exporter": "python",
   "pygments_lexer": "ipython3",
   "version": "3.8.3"
  }
 },
 "nbformat": 4,
 "nbformat_minor": 4
}
