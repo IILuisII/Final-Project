{
 "cells": [
  {
   "cell_type": "code",
   "execution_count": 1,
   "metadata": {},
   "outputs": [
    {
     "data": {
      "text/html": [
       "<style>.container { width:93% !important; }</style>"
      ],
      "text/plain": [
       "<IPython.core.display.HTML object>"
      ]
     },
     "metadata": {},
     "output_type": "display_data"
    }
   ],
   "source": [
    "from IPython.core.display import display, HTML\n",
    "display(HTML(\"<style>.container { width:93% !important; }</style>\"))"
   ]
  },
  {
   "cell_type": "code",
   "execution_count": 2,
   "metadata": {},
   "outputs": [],
   "source": [
    "# visualizations\n",
    "import matplotlib.pyplot as plt\n",
    "import seaborn as sn\n",
    "\n",
    "# machine learning\n",
    "from sklearn.linear_model import LogisticRegression\n",
    "from sklearn.neighbors import KNeighborsClassifier\n",
    "from sklearn.svm import SVC\n",
    "\n",
    "from sklearn.tree import DecisionTreeClassifier\n",
    "from sklearn.ensemble import BaggingClassifier\n",
    "from sklearn.ensemble import RandomForestClassifier\n",
    "from sklearn.ensemble import AdaBoostClassifier\n",
    "from sklearn.ensemble import GradientBoostingClassifier\n",
    "\n",
    "# machine learning processing\n",
    "from sklearn.model_selection import train_test_split\n",
    "from sklearn.preprocessing import StandardScaler\n",
    "\n",
    "#import metrics\n",
    "from sklearn.metrics import accuracy_score\n",
    "from sklearn.metrics import classification_report\n",
    "from sklearn.metrics import confusion_matrix\n",
    "from sklearn.metrics import roc_auc_score\n",
    "from scikitplot.metrics import plot_roc, plot_confusion_matrix\n",
    "\n",
    "from xgboost import XGBClassifier\n",
    "\n",
    "#basic imports\n",
    "import pandas as pd\n",
    "import numpy as np\n",
    "import os"
   ]
  },
  {
   "cell_type": "code",
   "execution_count": 3,
   "metadata": {},
   "outputs": [
    {
     "data": {
      "text/html": [
       "<div>\n",
       "<style scoped>\n",
       "    .dataframe tbody tr th:only-of-type {\n",
       "        vertical-align: middle;\n",
       "    }\n",
       "\n",
       "    .dataframe tbody tr th {\n",
       "        vertical-align: top;\n",
       "    }\n",
       "\n",
       "    .dataframe thead th {\n",
       "        text-align: right;\n",
       "    }\n",
       "</style>\n",
       "<table border=\"1\" class=\"dataframe\">\n",
       "  <thead>\n",
       "    <tr style=\"text-align: right;\">\n",
       "      <th></th>\n",
       "      <th>Itinerary_ID</th>\n",
       "      <th>Year</th>\n",
       "      <th>Quarter</th>\n",
       "      <th>Number_Coupons</th>\n",
       "      <th>Origin_Airport_ID</th>\n",
       "      <th>Origin_Airport_Seq_ID</th>\n",
       "      <th>Origin_City_Market_ID</th>\n",
       "      <th>Origin</th>\n",
       "      <th>Origin_State</th>\n",
       "      <th>Origin_WAC</th>\n",
       "      <th>...</th>\n",
       "      <th>Origin_Airport</th>\n",
       "      <th>Origin_City</th>\n",
       "      <th>Origin_Lat</th>\n",
       "      <th>Origin_Long</th>\n",
       "      <th>Destination_Airport</th>\n",
       "      <th>Destination_City</th>\n",
       "      <th>State</th>\n",
       "      <th>Country</th>\n",
       "      <th>Destination_Lat</th>\n",
       "      <th>Destination_Long</th>\n",
       "    </tr>\n",
       "  </thead>\n",
       "  <tbody>\n",
       "    <tr>\n",
       "      <th>33238</th>\n",
       "      <td>20201309557</td>\n",
       "      <td>2020</td>\n",
       "      <td>1</td>\n",
       "      <td>4</td>\n",
       "      <td>14843</td>\n",
       "      <td>1484306</td>\n",
       "      <td>34819</td>\n",
       "      <td>SJU</td>\n",
       "      <td>PR</td>\n",
       "      <td>3</td>\n",
       "      <td>...</td>\n",
       "      <td>Luis Muñoz Marín International Airport</td>\n",
       "      <td>San Juan</td>\n",
       "      <td>18.43942</td>\n",
       "      <td>-66.00183</td>\n",
       "      <td>Miami International Airport</td>\n",
       "      <td>Miami</td>\n",
       "      <td>FL</td>\n",
       "      <td>USA</td>\n",
       "      <td>25.79325</td>\n",
       "      <td>-80.29056</td>\n",
       "    </tr>\n",
       "    <tr>\n",
       "      <th>31402</th>\n",
       "      <td>2020171849</td>\n",
       "      <td>2020</td>\n",
       "      <td>1</td>\n",
       "      <td>4</td>\n",
       "      <td>13485</td>\n",
       "      <td>1348502</td>\n",
       "      <td>33485</td>\n",
       "      <td>MSN</td>\n",
       "      <td>WI</td>\n",
       "      <td>45</td>\n",
       "      <td>...</td>\n",
       "      <td>Dane County Regional Airport</td>\n",
       "      <td>Madison</td>\n",
       "      <td>43.13986</td>\n",
       "      <td>-89.33751</td>\n",
       "      <td>LaGuardia Airport (Marine Air Terminal)</td>\n",
       "      <td>New York</td>\n",
       "      <td>NY</td>\n",
       "      <td>USA</td>\n",
       "      <td>40.77724</td>\n",
       "      <td>-73.87261</td>\n",
       "    </tr>\n",
       "    <tr>\n",
       "      <th>54983</th>\n",
       "      <td>20201411032</td>\n",
       "      <td>2020</td>\n",
       "      <td>1</td>\n",
       "      <td>2</td>\n",
       "      <td>11298</td>\n",
       "      <td>1129806</td>\n",
       "      <td>30194</td>\n",
       "      <td>DFW</td>\n",
       "      <td>TX</td>\n",
       "      <td>74</td>\n",
       "      <td>...</td>\n",
       "      <td>Dallas/Fort Worth International Airport</td>\n",
       "      <td>Dallas-Fort Worth</td>\n",
       "      <td>32.89595</td>\n",
       "      <td>-97.03720</td>\n",
       "      <td>Indianapolis International Airport</td>\n",
       "      <td>Indianapolis</td>\n",
       "      <td>IN</td>\n",
       "      <td>USA</td>\n",
       "      <td>39.71733</td>\n",
       "      <td>-86.29438</td>\n",
       "    </tr>\n",
       "    <tr>\n",
       "      <th>10574</th>\n",
       "      <td>20201249202</td>\n",
       "      <td>2020</td>\n",
       "      <td>1</td>\n",
       "      <td>2</td>\n",
       "      <td>11193</td>\n",
       "      <td>1119302</td>\n",
       "      <td>33105</td>\n",
       "      <td>CVG</td>\n",
       "      <td>KY</td>\n",
       "      <td>52</td>\n",
       "      <td>...</td>\n",
       "      <td>Cincinnati/Northern Kentucky International Air...</td>\n",
       "      <td>Covington</td>\n",
       "      <td>39.04614</td>\n",
       "      <td>-84.66217</td>\n",
       "      <td>Phoenix Sky Harbor International Airport</td>\n",
       "      <td>Phoenix</td>\n",
       "      <td>AZ</td>\n",
       "      <td>USA</td>\n",
       "      <td>33.43417</td>\n",
       "      <td>-112.00806</td>\n",
       "    </tr>\n",
       "    <tr>\n",
       "      <th>37150</th>\n",
       "      <td>20201549218</td>\n",
       "      <td>2020</td>\n",
       "      <td>1</td>\n",
       "      <td>2</td>\n",
       "      <td>14100</td>\n",
       "      <td>1410005</td>\n",
       "      <td>34100</td>\n",
       "      <td>PHL</td>\n",
       "      <td>PA</td>\n",
       "      <td>23</td>\n",
       "      <td>...</td>\n",
       "      <td>Philadelphia International Airport</td>\n",
       "      <td>Philadelphia</td>\n",
       "      <td>39.87195</td>\n",
       "      <td>-75.24114</td>\n",
       "      <td>Fort Lauderdale-Hollywood International Airport</td>\n",
       "      <td>Ft. Lauderdale</td>\n",
       "      <td>FL</td>\n",
       "      <td>USA</td>\n",
       "      <td>26.07258</td>\n",
       "      <td>-80.15275</td>\n",
       "    </tr>\n",
       "    <tr>\n",
       "      <th>...</th>\n",
       "      <td>...</td>\n",
       "      <td>...</td>\n",
       "      <td>...</td>\n",
       "      <td>...</td>\n",
       "      <td>...</td>\n",
       "      <td>...</td>\n",
       "      <td>...</td>\n",
       "      <td>...</td>\n",
       "      <td>...</td>\n",
       "      <td>...</td>\n",
       "      <td>...</td>\n",
       "      <td>...</td>\n",
       "      <td>...</td>\n",
       "      <td>...</td>\n",
       "      <td>...</td>\n",
       "      <td>...</td>\n",
       "      <td>...</td>\n",
       "      <td>...</td>\n",
       "      <td>...</td>\n",
       "      <td>...</td>\n",
       "      <td>...</td>\n",
       "    </tr>\n",
       "    <tr>\n",
       "      <th>55720</th>\n",
       "      <td>20201127106</td>\n",
       "      <td>2020</td>\n",
       "      <td>1</td>\n",
       "      <td>4</td>\n",
       "      <td>11057</td>\n",
       "      <td>1105703</td>\n",
       "      <td>31057</td>\n",
       "      <td>CLT</td>\n",
       "      <td>NC</td>\n",
       "      <td>36</td>\n",
       "      <td>...</td>\n",
       "      <td>Charlotte Douglas International Airport</td>\n",
       "      <td>Charlotte</td>\n",
       "      <td>35.21401</td>\n",
       "      <td>-80.94313</td>\n",
       "      <td>Southwest Florida International Airport</td>\n",
       "      <td>Ft. Myers</td>\n",
       "      <td>FL</td>\n",
       "      <td>USA</td>\n",
       "      <td>26.53617</td>\n",
       "      <td>-81.75517</td>\n",
       "    </tr>\n",
       "    <tr>\n",
       "      <th>56936</th>\n",
       "      <td>20201312936</td>\n",
       "      <td>2020</td>\n",
       "      <td>1</td>\n",
       "      <td>3</td>\n",
       "      <td>13891</td>\n",
       "      <td>1389101</td>\n",
       "      <td>32575</td>\n",
       "      <td>ONT</td>\n",
       "      <td>CA</td>\n",
       "      <td>91</td>\n",
       "      <td>...</td>\n",
       "      <td>Ontario International Airport</td>\n",
       "      <td>Ontario</td>\n",
       "      <td>34.05600</td>\n",
       "      <td>-117.60119</td>\n",
       "      <td>San Diego International Airport (Lindbergh Field)</td>\n",
       "      <td>San Diego</td>\n",
       "      <td>CA</td>\n",
       "      <td>USA</td>\n",
       "      <td>32.73356</td>\n",
       "      <td>-117.18966</td>\n",
       "    </tr>\n",
       "    <tr>\n",
       "      <th>3647</th>\n",
       "      <td>20201307988</td>\n",
       "      <td>2020</td>\n",
       "      <td>1</td>\n",
       "      <td>2</td>\n",
       "      <td>13303</td>\n",
       "      <td>1330303</td>\n",
       "      <td>32467</td>\n",
       "      <td>MIA</td>\n",
       "      <td>FL</td>\n",
       "      <td>33</td>\n",
       "      <td>...</td>\n",
       "      <td>Miami International Airport</td>\n",
       "      <td>Miami</td>\n",
       "      <td>25.79325</td>\n",
       "      <td>-80.29056</td>\n",
       "      <td>Dallas/Fort Worth International Airport</td>\n",
       "      <td>Dallas-Fort Worth</td>\n",
       "      <td>TX</td>\n",
       "      <td>USA</td>\n",
       "      <td>32.89595</td>\n",
       "      <td>-97.03720</td>\n",
       "    </tr>\n",
       "    <tr>\n",
       "      <th>57611</th>\n",
       "      <td>20201362449</td>\n",
       "      <td>2020</td>\n",
       "      <td>1</td>\n",
       "      <td>2</td>\n",
       "      <td>11057</td>\n",
       "      <td>1105703</td>\n",
       "      <td>31057</td>\n",
       "      <td>CLT</td>\n",
       "      <td>NC</td>\n",
       "      <td>36</td>\n",
       "      <td>...</td>\n",
       "      <td>Charlotte Douglas International Airport</td>\n",
       "      <td>Charlotte</td>\n",
       "      <td>35.21401</td>\n",
       "      <td>-80.94313</td>\n",
       "      <td>Albert J. Ellis Airport</td>\n",
       "      <td>Jacksonville</td>\n",
       "      <td>NC</td>\n",
       "      <td>USA</td>\n",
       "      <td>34.82916</td>\n",
       "      <td>-77.61214</td>\n",
       "    </tr>\n",
       "    <tr>\n",
       "      <th>15593</th>\n",
       "      <td>2020189332</td>\n",
       "      <td>2020</td>\n",
       "      <td>1</td>\n",
       "      <td>4</td>\n",
       "      <td>11697</td>\n",
       "      <td>1169706</td>\n",
       "      <td>32467</td>\n",
       "      <td>FLL</td>\n",
       "      <td>FL</td>\n",
       "      <td>33</td>\n",
       "      <td>...</td>\n",
       "      <td>Fort Lauderdale-Hollywood International Airport</td>\n",
       "      <td>Ft. Lauderdale</td>\n",
       "      <td>26.07258</td>\n",
       "      <td>-80.15275</td>\n",
       "      <td>Hartsfield-Jackson Atlanta International Airport</td>\n",
       "      <td>Atlanta</td>\n",
       "      <td>GA</td>\n",
       "      <td>USA</td>\n",
       "      <td>33.64044</td>\n",
       "      <td>-84.42694</td>\n",
       "    </tr>\n",
       "  </tbody>\n",
       "</table>\n",
       "<p>3267 rows × 32 columns</p>\n",
       "</div>"
      ],
      "text/plain": [
       "       Itinerary_ID  Year  Quarter  Number_Coupons  Origin_Airport_ID  \\\n",
       "33238   20201309557  2020        1               4              14843   \n",
       "31402    2020171849  2020        1               4              13485   \n",
       "54983   20201411032  2020        1               2              11298   \n",
       "10574   20201249202  2020        1               2              11193   \n",
       "37150   20201549218  2020        1               2              14100   \n",
       "...             ...   ...      ...             ...                ...   \n",
       "55720   20201127106  2020        1               4              11057   \n",
       "56936   20201312936  2020        1               3              13891   \n",
       "3647    20201307988  2020        1               2              13303   \n",
       "57611   20201362449  2020        1               2              11057   \n",
       "15593    2020189332  2020        1               4              11697   \n",
       "\n",
       "       Origin_Airport_Seq_ID  Origin_City_Market_ID Origin Origin_State  \\\n",
       "33238                1484306                  34819    SJU           PR   \n",
       "31402                1348502                  33485    MSN           WI   \n",
       "54983                1129806                  30194    DFW           TX   \n",
       "10574                1119302                  33105    CVG           KY   \n",
       "37150                1410005                  34100    PHL           PA   \n",
       "...                      ...                    ...    ...          ...   \n",
       "55720                1105703                  31057    CLT           NC   \n",
       "56936                1389101                  32575    ONT           CA   \n",
       "3647                 1330303                  32467    MIA           FL   \n",
       "57611                1105703                  31057    CLT           NC   \n",
       "15593                1169706                  32467    FLL           FL   \n",
       "\n",
       "       Origin_WAC  ...                                     Origin_Airport  \\\n",
       "33238           3  ...             Luis Muñoz Marín International Airport   \n",
       "31402          45  ...                       Dane County Regional Airport   \n",
       "54983          74  ...            Dallas/Fort Worth International Airport   \n",
       "10574          52  ...  Cincinnati/Northern Kentucky International Air...   \n",
       "37150          23  ...                 Philadelphia International Airport   \n",
       "...           ...  ...                                                ...   \n",
       "55720          36  ...            Charlotte Douglas International Airport   \n",
       "56936          91  ...                      Ontario International Airport   \n",
       "3647           33  ...                        Miami International Airport   \n",
       "57611          36  ...            Charlotte Douglas International Airport   \n",
       "15593          33  ...    Fort Lauderdale-Hollywood International Airport   \n",
       "\n",
       "             Origin_City  Origin_Lat Origin_Long  \\\n",
       "33238           San Juan    18.43942   -66.00183   \n",
       "31402            Madison    43.13986   -89.33751   \n",
       "54983  Dallas-Fort Worth    32.89595   -97.03720   \n",
       "10574          Covington    39.04614   -84.66217   \n",
       "37150       Philadelphia    39.87195   -75.24114   \n",
       "...                  ...         ...         ...   \n",
       "55720          Charlotte    35.21401   -80.94313   \n",
       "56936            Ontario    34.05600  -117.60119   \n",
       "3647               Miami    25.79325   -80.29056   \n",
       "57611          Charlotte    35.21401   -80.94313   \n",
       "15593     Ft. Lauderdale    26.07258   -80.15275   \n",
       "\n",
       "                                     Destination_Airport   Destination_City  \\\n",
       "33238                        Miami International Airport              Miami   \n",
       "31402            LaGuardia Airport (Marine Air Terminal)           New York   \n",
       "54983                 Indianapolis International Airport       Indianapolis   \n",
       "10574           Phoenix Sky Harbor International Airport            Phoenix   \n",
       "37150    Fort Lauderdale-Hollywood International Airport     Ft. Lauderdale   \n",
       "...                                                  ...                ...   \n",
       "55720            Southwest Florida International Airport          Ft. Myers   \n",
       "56936  San Diego International Airport (Lindbergh Field)          San Diego   \n",
       "3647             Dallas/Fort Worth International Airport  Dallas-Fort Worth   \n",
       "57611                            Albert J. Ellis Airport       Jacksonville   \n",
       "15593   Hartsfield-Jackson Atlanta International Airport            Atlanta   \n",
       "\n",
       "       State  Country Destination_Lat Destination_Long  \n",
       "33238     FL      USA        25.79325        -80.29056  \n",
       "31402     NY      USA        40.77724        -73.87261  \n",
       "54983     IN      USA        39.71733        -86.29438  \n",
       "10574     AZ      USA        33.43417       -112.00806  \n",
       "37150     FL      USA        26.07258        -80.15275  \n",
       "...      ...      ...             ...              ...  \n",
       "55720     FL      USA        26.53617        -81.75517  \n",
       "56936     CA      USA        32.73356       -117.18966  \n",
       "3647      TX      USA        32.89595        -97.03720  \n",
       "57611     NC      USA        34.82916        -77.61214  \n",
       "15593     GA      USA        33.64044        -84.42694  \n",
       "\n",
       "[3267 rows x 32 columns]"
      ]
     },
     "execution_count": 3,
     "metadata": {},
     "output_type": "execute_result"
    }
   ],
   "source": [
    "df = pd.read_csv(\"machineLearningData (1).csv\")\n",
    "df = df.sample(frac=.05, random_state=42)\n",
    "df"
   ]
  },
  {
   "cell_type": "code",
   "execution_count": 4,
   "metadata": {},
   "outputs": [
    {
     "name": "stdout",
     "output_type": "stream",
     "text": [
      "<class 'pandas.core.frame.DataFrame'>\n",
      "Int64Index: 3267 entries, 33238 to 15593\n",
      "Data columns (total 32 columns):\n",
      " #   Column                 Non-Null Count  Dtype  \n",
      "---  ------                 --------------  -----  \n",
      " 0   Itinerary_ID           3267 non-null   int64  \n",
      " 1   Year                   3267 non-null   int64  \n",
      " 2   Quarter                3267 non-null   int64  \n",
      " 3   Number_Coupons         3267 non-null   int64  \n",
      " 4   Origin_Airport_ID      3267 non-null   int64  \n",
      " 5   Origin_Airport_Seq_ID  3267 non-null   int64  \n",
      " 6   Origin_City_Market_ID  3267 non-null   int64  \n",
      " 7   Origin                 3267 non-null   object \n",
      " 8   Origin_State           3267 non-null   object \n",
      " 9   Origin_WAC             3267 non-null   int64  \n",
      " 10  Dest_Airport_ID        3267 non-null   int64  \n",
      " 11  Dest_Airport_Seq_ID    3267 non-null   int64  \n",
      " 12  Dest_City_Market_ID    3267 non-null   int64  \n",
      " 13  Destination            3267 non-null   object \n",
      " 14  Dest_State             3267 non-null   object \n",
      " 15  Dest_WAC               3267 non-null   int64  \n",
      " 16  Flight_Distance        3267 non-null   int64  \n",
      " 17  Fare                   3267 non-null   int64  \n",
      " 18  Ticket_Carrier         3267 non-null   object \n",
      " 19  Operating_Carrier      3267 non-null   object \n",
      " 20  Reporting_Carrier      3267 non-null   object \n",
      " 21  Number_Passengers      3267 non-null   int64  \n",
      " 22  Origin_Airport         3267 non-null   object \n",
      " 23  Origin_City            3267 non-null   object \n",
      " 24  Origin_Lat             3267 non-null   float64\n",
      " 25  Origin_Long            3267 non-null   float64\n",
      " 26  Destination_Airport    3267 non-null   object \n",
      " 27  Destination_City       3267 non-null   object \n",
      " 28  State                  3267 non-null   object \n",
      " 29  Country                3267 non-null   object \n",
      " 30  Destination_Lat        3265 non-null   float64\n",
      " 31  Destination_Long       3265 non-null   float64\n",
      "dtypes: float64(4), int64(15), object(13)\n",
      "memory usage: 842.3+ KB\n"
     ]
    }
   ],
   "source": [
    "df.info()"
   ]
  },
  {
   "cell_type": "code",
   "execution_count": 5,
   "metadata": {},
   "outputs": [
    {
     "data": {
      "text/html": [
       "<div>\n",
       "<style scoped>\n",
       "    .dataframe tbody tr th:only-of-type {\n",
       "        vertical-align: middle;\n",
       "    }\n",
       "\n",
       "    .dataframe tbody tr th {\n",
       "        vertical-align: top;\n",
       "    }\n",
       "\n",
       "    .dataframe thead th {\n",
       "        text-align: right;\n",
       "    }\n",
       "</style>\n",
       "<table border=\"1\" class=\"dataframe\">\n",
       "  <thead>\n",
       "    <tr style=\"text-align: right;\">\n",
       "      <th></th>\n",
       "      <th>Itinerary_ID</th>\n",
       "      <th>Year</th>\n",
       "      <th>Quarter</th>\n",
       "      <th>Number_Coupons</th>\n",
       "      <th>Origin_Airport_ID</th>\n",
       "      <th>Origin_Airport_Seq_ID</th>\n",
       "      <th>Origin_City_Market_ID</th>\n",
       "      <th>Origin_WAC</th>\n",
       "      <th>Dest_Airport_ID</th>\n",
       "      <th>Dest_Airport_Seq_ID</th>\n",
       "      <th>Dest_City_Market_ID</th>\n",
       "      <th>Dest_WAC</th>\n",
       "      <th>Flight_Distance</th>\n",
       "      <th>Fare</th>\n",
       "      <th>Number_Passengers</th>\n",
       "      <th>Origin_Lat</th>\n",
       "      <th>Origin_Long</th>\n",
       "      <th>Destination_Lat</th>\n",
       "      <th>Destination_Long</th>\n",
       "    </tr>\n",
       "  </thead>\n",
       "  <tbody>\n",
       "    <tr>\n",
       "      <th>count</th>\n",
       "      <td>3.267000e+03</td>\n",
       "      <td>3267.0</td>\n",
       "      <td>3267.0</td>\n",
       "      <td>3267.000000</td>\n",
       "      <td>3267.000000</td>\n",
       "      <td>3.267000e+03</td>\n",
       "      <td>3267.000000</td>\n",
       "      <td>3267.000000</td>\n",
       "      <td>3267.000000</td>\n",
       "      <td>3.267000e+03</td>\n",
       "      <td>3267.000000</td>\n",
       "      <td>3267.000000</td>\n",
       "      <td>3267.000000</td>\n",
       "      <td>3267.000000</td>\n",
       "      <td>3267.000000</td>\n",
       "      <td>3267.000000</td>\n",
       "      <td>3267.000000</td>\n",
       "      <td>3265.000000</td>\n",
       "      <td>3265.000000</td>\n",
       "    </tr>\n",
       "    <tr>\n",
       "      <th>mean</th>\n",
       "      <td>1.611827e+10</td>\n",
       "      <td>2020.0</td>\n",
       "      <td>1.0</td>\n",
       "      <td>3.006428</td>\n",
       "      <td>12177.364555</td>\n",
       "      <td>1.217741e+06</td>\n",
       "      <td>31435.257729</td>\n",
       "      <td>50.254668</td>\n",
       "      <td>12321.891338</td>\n",
       "      <td>1.232193e+06</td>\n",
       "      <td>31523.608815</td>\n",
       "      <td>50.997857</td>\n",
       "      <td>835.335170</td>\n",
       "      <td>458.083257</td>\n",
       "      <td>1.642792</td>\n",
       "      <td>35.550352</td>\n",
       "      <td>-90.113271</td>\n",
       "      <td>35.621042</td>\n",
       "      <td>-90.543977</td>\n",
       "    </tr>\n",
       "    <tr>\n",
       "      <th>std</th>\n",
       "      <td>7.644518e+09</td>\n",
       "      <td>0.0</td>\n",
       "      <td>0.0</td>\n",
       "      <td>1.160809</td>\n",
       "      <td>1376.174002</td>\n",
       "      <td>1.376170e+05</td>\n",
       "      <td>1187.491554</td>\n",
       "      <td>23.804921</td>\n",
       "      <td>1445.172896</td>\n",
       "      <td>1.445170e+05</td>\n",
       "      <td>1260.800146</td>\n",
       "      <td>24.012926</td>\n",
       "      <td>633.911745</td>\n",
       "      <td>349.080103</td>\n",
       "      <td>5.476503</td>\n",
       "      <td>5.105206</td>\n",
       "      <td>14.921552</td>\n",
       "      <td>5.124741</td>\n",
       "      <td>15.053095</td>\n",
       "    </tr>\n",
       "    <tr>\n",
       "      <th>min</th>\n",
       "      <td>2.020180e+05</td>\n",
       "      <td>2020.0</td>\n",
       "      <td>1.0</td>\n",
       "      <td>1.000000</td>\n",
       "      <td>10135.000000</td>\n",
       "      <td>1.013506e+06</td>\n",
       "      <td>30135.000000</td>\n",
       "      <td>1.000000</td>\n",
       "      <td>10140.000000</td>\n",
       "      <td>1.014005e+06</td>\n",
       "      <td>30140.000000</td>\n",
       "      <td>1.000000</td>\n",
       "      <td>11.000000</td>\n",
       "      <td>0.000000</td>\n",
       "      <td>1.000000</td>\n",
       "      <td>17.701890</td>\n",
       "      <td>-157.922410</td>\n",
       "      <td>17.701890</td>\n",
       "      <td>-159.338960</td>\n",
       "    </tr>\n",
       "    <tr>\n",
       "      <th>25%</th>\n",
       "      <td>2.020112e+10</td>\n",
       "      <td>2020.0</td>\n",
       "      <td>1.0</td>\n",
       "      <td>2.000000</td>\n",
       "      <td>11057.000000</td>\n",
       "      <td>1.105703e+06</td>\n",
       "      <td>30431.000000</td>\n",
       "      <td>34.000000</td>\n",
       "      <td>11057.000000</td>\n",
       "      <td>1.105703e+06</td>\n",
       "      <td>30466.000000</td>\n",
       "      <td>34.000000</td>\n",
       "      <td>373.000000</td>\n",
       "      <td>252.500000</td>\n",
       "      <td>1.000000</td>\n",
       "      <td>32.895950</td>\n",
       "      <td>-97.037200</td>\n",
       "      <td>32.895950</td>\n",
       "      <td>-97.037200</td>\n",
       "    </tr>\n",
       "    <tr>\n",
       "      <th>50%</th>\n",
       "      <td>2.020127e+10</td>\n",
       "      <td>2020.0</td>\n",
       "      <td>1.0</td>\n",
       "      <td>3.000000</td>\n",
       "      <td>11433.000000</td>\n",
       "      <td>1.143302e+06</td>\n",
       "      <td>31057.000000</td>\n",
       "      <td>41.000000</td>\n",
       "      <td>11697.000000</td>\n",
       "      <td>1.169706e+06</td>\n",
       "      <td>31057.000000</td>\n",
       "      <td>41.000000</td>\n",
       "      <td>644.000000</td>\n",
       "      <td>398.000000</td>\n",
       "      <td>1.000000</td>\n",
       "      <td>35.214010</td>\n",
       "      <td>-84.426940</td>\n",
       "      <td>35.214010</td>\n",
       "      <td>-84.662170</td>\n",
       "    </tr>\n",
       "    <tr>\n",
       "      <th>75%</th>\n",
       "      <td>2.020142e+10</td>\n",
       "      <td>2020.0</td>\n",
       "      <td>1.0</td>\n",
       "      <td>4.000000</td>\n",
       "      <td>13303.000000</td>\n",
       "      <td>1.330303e+06</td>\n",
       "      <td>32211.000000</td>\n",
       "      <td>74.000000</td>\n",
       "      <td>13487.000000</td>\n",
       "      <td>1.348702e+06</td>\n",
       "      <td>32457.000000</td>\n",
       "      <td>74.000000</td>\n",
       "      <td>1096.000000</td>\n",
       "      <td>574.000000</td>\n",
       "      <td>1.000000</td>\n",
       "      <td>39.858410</td>\n",
       "      <td>-80.290560</td>\n",
       "      <td>39.871950</td>\n",
       "      <td>-80.943130</td>\n",
       "    </tr>\n",
       "    <tr>\n",
       "      <th>max</th>\n",
       "      <td>2.020161e+10</td>\n",
       "      <td>2020.0</td>\n",
       "      <td>1.0</td>\n",
       "      <td>8.000000</td>\n",
       "      <td>16218.000000</td>\n",
       "      <td>1.621802e+06</td>\n",
       "      <td>35412.000000</td>\n",
       "      <td>93.000000</td>\n",
       "      <td>16218.000000</td>\n",
       "      <td>1.621802e+06</td>\n",
       "      <td>35412.000000</td>\n",
       "      <td>93.000000</td>\n",
       "      <td>4243.000000</td>\n",
       "      <td>4203.000000</td>\n",
       "      <td>216.000000</td>\n",
       "      <td>61.174320</td>\n",
       "      <td>-64.798560</td>\n",
       "      <td>61.174320</td>\n",
       "      <td>-64.798560</td>\n",
       "    </tr>\n",
       "  </tbody>\n",
       "</table>\n",
       "</div>"
      ],
      "text/plain": [
       "       Itinerary_ID    Year  Quarter  Number_Coupons  Origin_Airport_ID  \\\n",
       "count  3.267000e+03  3267.0   3267.0     3267.000000        3267.000000   \n",
       "mean   1.611827e+10  2020.0      1.0        3.006428       12177.364555   \n",
       "std    7.644518e+09     0.0      0.0        1.160809        1376.174002   \n",
       "min    2.020180e+05  2020.0      1.0        1.000000       10135.000000   \n",
       "25%    2.020112e+10  2020.0      1.0        2.000000       11057.000000   \n",
       "50%    2.020127e+10  2020.0      1.0        3.000000       11433.000000   \n",
       "75%    2.020142e+10  2020.0      1.0        4.000000       13303.000000   \n",
       "max    2.020161e+10  2020.0      1.0        8.000000       16218.000000   \n",
       "\n",
       "       Origin_Airport_Seq_ID  Origin_City_Market_ID   Origin_WAC  \\\n",
       "count           3.267000e+03            3267.000000  3267.000000   \n",
       "mean            1.217741e+06           31435.257729    50.254668   \n",
       "std             1.376170e+05            1187.491554    23.804921   \n",
       "min             1.013506e+06           30135.000000     1.000000   \n",
       "25%             1.105703e+06           30431.000000    34.000000   \n",
       "50%             1.143302e+06           31057.000000    41.000000   \n",
       "75%             1.330303e+06           32211.000000    74.000000   \n",
       "max             1.621802e+06           35412.000000    93.000000   \n",
       "\n",
       "       Dest_Airport_ID  Dest_Airport_Seq_ID  Dest_City_Market_ID     Dest_WAC  \\\n",
       "count      3267.000000         3.267000e+03          3267.000000  3267.000000   \n",
       "mean      12321.891338         1.232193e+06         31523.608815    50.997857   \n",
       "std        1445.172896         1.445170e+05          1260.800146    24.012926   \n",
       "min       10140.000000         1.014005e+06         30140.000000     1.000000   \n",
       "25%       11057.000000         1.105703e+06         30466.000000    34.000000   \n",
       "50%       11697.000000         1.169706e+06         31057.000000    41.000000   \n",
       "75%       13487.000000         1.348702e+06         32457.000000    74.000000   \n",
       "max       16218.000000         1.621802e+06         35412.000000    93.000000   \n",
       "\n",
       "       Flight_Distance         Fare  Number_Passengers   Origin_Lat  \\\n",
       "count      3267.000000  3267.000000        3267.000000  3267.000000   \n",
       "mean        835.335170   458.083257           1.642792    35.550352   \n",
       "std         633.911745   349.080103           5.476503     5.105206   \n",
       "min          11.000000     0.000000           1.000000    17.701890   \n",
       "25%         373.000000   252.500000           1.000000    32.895950   \n",
       "50%         644.000000   398.000000           1.000000    35.214010   \n",
       "75%        1096.000000   574.000000           1.000000    39.858410   \n",
       "max        4243.000000  4203.000000         216.000000    61.174320   \n",
       "\n",
       "       Origin_Long  Destination_Lat  Destination_Long  \n",
       "count  3267.000000      3265.000000       3265.000000  \n",
       "mean    -90.113271        35.621042        -90.543977  \n",
       "std      14.921552         5.124741         15.053095  \n",
       "min    -157.922410        17.701890       -159.338960  \n",
       "25%     -97.037200        32.895950        -97.037200  \n",
       "50%     -84.426940        35.214010        -84.662170  \n",
       "75%     -80.290560        39.871950        -80.943130  \n",
       "max     -64.798560        61.174320        -64.798560  "
      ]
     },
     "execution_count": 5,
     "metadata": {},
     "output_type": "execute_result"
    }
   ],
   "source": [
    "df.describe()"
   ]
  },
  {
   "cell_type": "code",
   "execution_count": 6,
   "metadata": {},
   "outputs": [
    {
     "data": {
      "text/plain": [
       "3267"
      ]
     },
     "execution_count": 6,
     "metadata": {},
     "output_type": "execute_result"
    }
   ],
   "source": [
    "len(df)"
   ]
  },
  {
   "cell_type": "code",
   "execution_count": 7,
   "metadata": {},
   "outputs": [],
   "source": [
    "#df = pd.get_dummies(df, columns=[\"Origin\", \"Destination\"])"
   ]
  },
  {
   "cell_type": "code",
   "execution_count": 8,
   "metadata": {},
   "outputs": [
    {
     "data": {
      "text/html": [
       "<div>\n",
       "<style scoped>\n",
       "    .dataframe tbody tr th:only-of-type {\n",
       "        vertical-align: middle;\n",
       "    }\n",
       "\n",
       "    .dataframe tbody tr th {\n",
       "        vertical-align: top;\n",
       "    }\n",
       "\n",
       "    .dataframe thead th {\n",
       "        text-align: right;\n",
       "    }\n",
       "</style>\n",
       "<table border=\"1\" class=\"dataframe\">\n",
       "  <thead>\n",
       "    <tr style=\"text-align: right;\">\n",
       "      <th></th>\n",
       "      <th>Itinerary_ID</th>\n",
       "      <th>Year</th>\n",
       "      <th>Quarter</th>\n",
       "      <th>Number_Coupons</th>\n",
       "      <th>Origin_Airport_ID</th>\n",
       "      <th>Origin_Airport_Seq_ID</th>\n",
       "      <th>Origin_City_Market_ID</th>\n",
       "      <th>Origin_WAC</th>\n",
       "      <th>Dest_Airport_ID</th>\n",
       "      <th>Dest_Airport_Seq_ID</th>\n",
       "      <th>Dest_City_Market_ID</th>\n",
       "      <th>Dest_WAC</th>\n",
       "      <th>Flight_Distance</th>\n",
       "      <th>Fare</th>\n",
       "      <th>Number_Passengers</th>\n",
       "      <th>Origin_Lat</th>\n",
       "      <th>Origin_Long</th>\n",
       "      <th>Destination_Lat</th>\n",
       "      <th>Destination_Long</th>\n",
       "    </tr>\n",
       "  </thead>\n",
       "  <tbody>\n",
       "    <tr>\n",
       "      <th>Itinerary_ID</th>\n",
       "      <td>1.000000</td>\n",
       "      <td>NaN</td>\n",
       "      <td>NaN</td>\n",
       "      <td>-0.058713</td>\n",
       "      <td>0.026708</td>\n",
       "      <td>0.026708</td>\n",
       "      <td>-0.062774</td>\n",
       "      <td>0.228079</td>\n",
       "      <td>0.082831</td>\n",
       "      <td>0.082831</td>\n",
       "      <td>-0.008146</td>\n",
       "      <td>0.215539</td>\n",
       "      <td>0.199673</td>\n",
       "      <td>-0.021797</td>\n",
       "      <td>0.046341</td>\n",
       "      <td>-0.237929</td>\n",
       "      <td>-0.216727</td>\n",
       "      <td>-0.225186</td>\n",
       "      <td>-0.199128</td>\n",
       "    </tr>\n",
       "    <tr>\n",
       "      <th>Year</th>\n",
       "      <td>NaN</td>\n",
       "      <td>NaN</td>\n",
       "      <td>NaN</td>\n",
       "      <td>NaN</td>\n",
       "      <td>NaN</td>\n",
       "      <td>NaN</td>\n",
       "      <td>NaN</td>\n",
       "      <td>NaN</td>\n",
       "      <td>NaN</td>\n",
       "      <td>NaN</td>\n",
       "      <td>NaN</td>\n",
       "      <td>NaN</td>\n",
       "      <td>NaN</td>\n",
       "      <td>NaN</td>\n",
       "      <td>NaN</td>\n",
       "      <td>NaN</td>\n",
       "      <td>NaN</td>\n",
       "      <td>NaN</td>\n",
       "      <td>NaN</td>\n",
       "    </tr>\n",
       "    <tr>\n",
       "      <th>Quarter</th>\n",
       "      <td>NaN</td>\n",
       "      <td>NaN</td>\n",
       "      <td>NaN</td>\n",
       "      <td>NaN</td>\n",
       "      <td>NaN</td>\n",
       "      <td>NaN</td>\n",
       "      <td>NaN</td>\n",
       "      <td>NaN</td>\n",
       "      <td>NaN</td>\n",
       "      <td>NaN</td>\n",
       "      <td>NaN</td>\n",
       "      <td>NaN</td>\n",
       "      <td>NaN</td>\n",
       "      <td>NaN</td>\n",
       "      <td>NaN</td>\n",
       "      <td>NaN</td>\n",
       "      <td>NaN</td>\n",
       "      <td>NaN</td>\n",
       "      <td>NaN</td>\n",
       "    </tr>\n",
       "    <tr>\n",
       "      <th>Number_Coupons</th>\n",
       "      <td>-0.058713</td>\n",
       "      <td>NaN</td>\n",
       "      <td>NaN</td>\n",
       "      <td>1.000000</td>\n",
       "      <td>0.020066</td>\n",
       "      <td>0.020067</td>\n",
       "      <td>0.019021</td>\n",
       "      <td>0.032074</td>\n",
       "      <td>-0.078809</td>\n",
       "      <td>-0.078809</td>\n",
       "      <td>-0.037477</td>\n",
       "      <td>0.011963</td>\n",
       "      <td>-0.110634</td>\n",
       "      <td>0.238150</td>\n",
       "      <td>-0.118218</td>\n",
       "      <td>0.000987</td>\n",
       "      <td>-0.051510</td>\n",
       "      <td>-0.012298</td>\n",
       "      <td>-0.020021</td>\n",
       "    </tr>\n",
       "    <tr>\n",
       "      <th>Origin_Airport_ID</th>\n",
       "      <td>0.026708</td>\n",
       "      <td>NaN</td>\n",
       "      <td>NaN</td>\n",
       "      <td>0.020066</td>\n",
       "      <td>1.000000</td>\n",
       "      <td>1.000000</td>\n",
       "      <td>0.650358</td>\n",
       "      <td>0.134023</td>\n",
       "      <td>-0.063181</td>\n",
       "      <td>-0.063180</td>\n",
       "      <td>-0.078608</td>\n",
       "      <td>0.032157</td>\n",
       "      <td>0.111828</td>\n",
       "      <td>0.046040</td>\n",
       "      <td>-0.015004</td>\n",
       "      <td>-0.020837</td>\n",
       "      <td>-0.223250</td>\n",
       "      <td>0.043132</td>\n",
       "      <td>-0.063436</td>\n",
       "    </tr>\n",
       "    <tr>\n",
       "      <th>Origin_Airport_Seq_ID</th>\n",
       "      <td>0.026708</td>\n",
       "      <td>NaN</td>\n",
       "      <td>NaN</td>\n",
       "      <td>0.020067</td>\n",
       "      <td>1.000000</td>\n",
       "      <td>1.000000</td>\n",
       "      <td>0.650357</td>\n",
       "      <td>0.134026</td>\n",
       "      <td>-0.063180</td>\n",
       "      <td>-0.063179</td>\n",
       "      <td>-0.078607</td>\n",
       "      <td>0.032158</td>\n",
       "      <td>0.111829</td>\n",
       "      <td>0.046041</td>\n",
       "      <td>-0.015003</td>\n",
       "      <td>-0.020838</td>\n",
       "      <td>-0.223253</td>\n",
       "      <td>0.043132</td>\n",
       "      <td>-0.063437</td>\n",
       "    </tr>\n",
       "    <tr>\n",
       "      <th>Origin_City_Market_ID</th>\n",
       "      <td>-0.062774</td>\n",
       "      <td>NaN</td>\n",
       "      <td>NaN</td>\n",
       "      <td>0.019021</td>\n",
       "      <td>0.650358</td>\n",
       "      <td>0.650357</td>\n",
       "      <td>1.000000</td>\n",
       "      <td>-0.104572</td>\n",
       "      <td>-0.080906</td>\n",
       "      <td>-0.080905</td>\n",
       "      <td>-0.145763</td>\n",
       "      <td>-0.077203</td>\n",
       "      <td>0.082851</td>\n",
       "      <td>0.007507</td>\n",
       "      <td>-0.001909</td>\n",
       "      <td>-0.024407</td>\n",
       "      <td>-0.027384</td>\n",
       "      <td>-0.013830</td>\n",
       "      <td>0.063658</td>\n",
       "    </tr>\n",
       "    <tr>\n",
       "      <th>Origin_WAC</th>\n",
       "      <td>0.228079</td>\n",
       "      <td>NaN</td>\n",
       "      <td>NaN</td>\n",
       "      <td>0.032074</td>\n",
       "      <td>0.134023</td>\n",
       "      <td>0.134026</td>\n",
       "      <td>-0.104572</td>\n",
       "      <td>1.000000</td>\n",
       "      <td>0.049224</td>\n",
       "      <td>0.049225</td>\n",
       "      <td>-0.026725</td>\n",
       "      <td>0.278698</td>\n",
       "      <td>0.109905</td>\n",
       "      <td>0.040751</td>\n",
       "      <td>-0.001160</td>\n",
       "      <td>-0.103383</td>\n",
       "      <td>-0.749830</td>\n",
       "      <td>-0.059187</td>\n",
       "      <td>-0.315655</td>\n",
       "    </tr>\n",
       "    <tr>\n",
       "      <th>Dest_Airport_ID</th>\n",
       "      <td>0.082831</td>\n",
       "      <td>NaN</td>\n",
       "      <td>NaN</td>\n",
       "      <td>-0.078809</td>\n",
       "      <td>-0.063181</td>\n",
       "      <td>-0.063180</td>\n",
       "      <td>-0.080906</td>\n",
       "      <td>0.049224</td>\n",
       "      <td>1.000000</td>\n",
       "      <td>1.000000</td>\n",
       "      <td>0.644389</td>\n",
       "      <td>0.145370</td>\n",
       "      <td>0.137068</td>\n",
       "      <td>0.012058</td>\n",
       "      <td>-0.003972</td>\n",
       "      <td>-0.009940</td>\n",
       "      <td>-0.072536</td>\n",
       "      <td>-0.019542</td>\n",
       "      <td>-0.239980</td>\n",
       "    </tr>\n",
       "    <tr>\n",
       "      <th>Dest_Airport_Seq_ID</th>\n",
       "      <td>0.082831</td>\n",
       "      <td>NaN</td>\n",
       "      <td>NaN</td>\n",
       "      <td>-0.078809</td>\n",
       "      <td>-0.063180</td>\n",
       "      <td>-0.063179</td>\n",
       "      <td>-0.080905</td>\n",
       "      <td>0.049225</td>\n",
       "      <td>1.000000</td>\n",
       "      <td>1.000000</td>\n",
       "      <td>0.644388</td>\n",
       "      <td>0.145372</td>\n",
       "      <td>0.137069</td>\n",
       "      <td>0.012058</td>\n",
       "      <td>-0.003972</td>\n",
       "      <td>-0.009940</td>\n",
       "      <td>-0.072538</td>\n",
       "      <td>-0.019543</td>\n",
       "      <td>-0.239982</td>\n",
       "    </tr>\n",
       "    <tr>\n",
       "      <th>Dest_City_Market_ID</th>\n",
       "      <td>-0.008146</td>\n",
       "      <td>NaN</td>\n",
       "      <td>NaN</td>\n",
       "      <td>-0.037477</td>\n",
       "      <td>-0.078608</td>\n",
       "      <td>-0.078607</td>\n",
       "      <td>-0.145763</td>\n",
       "      <td>-0.026725</td>\n",
       "      <td>0.644389</td>\n",
       "      <td>0.644388</td>\n",
       "      <td>1.000000</td>\n",
       "      <td>-0.114195</td>\n",
       "      <td>0.025486</td>\n",
       "      <td>0.006176</td>\n",
       "      <td>-0.012807</td>\n",
       "      <td>-0.037614</td>\n",
       "      <td>0.033327</td>\n",
       "      <td>-0.040504</td>\n",
       "      <td>0.009917</td>\n",
       "    </tr>\n",
       "    <tr>\n",
       "      <th>Dest_WAC</th>\n",
       "      <td>0.215539</td>\n",
       "      <td>NaN</td>\n",
       "      <td>NaN</td>\n",
       "      <td>0.011963</td>\n",
       "      <td>0.032157</td>\n",
       "      <td>0.032158</td>\n",
       "      <td>-0.077203</td>\n",
       "      <td>0.278698</td>\n",
       "      <td>0.145370</td>\n",
       "      <td>0.145372</td>\n",
       "      <td>-0.114195</td>\n",
       "      <td>1.000000</td>\n",
       "      <td>0.158233</td>\n",
       "      <td>0.070221</td>\n",
       "      <td>-0.003277</td>\n",
       "      <td>-0.069018</td>\n",
       "      <td>-0.315620</td>\n",
       "      <td>-0.082174</td>\n",
       "      <td>-0.771935</td>\n",
       "    </tr>\n",
       "    <tr>\n",
       "      <th>Flight_Distance</th>\n",
       "      <td>0.199673</td>\n",
       "      <td>NaN</td>\n",
       "      <td>NaN</td>\n",
       "      <td>-0.110634</td>\n",
       "      <td>0.111828</td>\n",
       "      <td>0.111829</td>\n",
       "      <td>0.082851</td>\n",
       "      <td>0.109905</td>\n",
       "      <td>0.137068</td>\n",
       "      <td>0.137069</td>\n",
       "      <td>0.025486</td>\n",
       "      <td>0.158233</td>\n",
       "      <td>1.000000</td>\n",
       "      <td>0.178160</td>\n",
       "      <td>0.014601</td>\n",
       "      <td>-0.152578</td>\n",
       "      <td>-0.350074</td>\n",
       "      <td>-0.123178</td>\n",
       "      <td>-0.371075</td>\n",
       "    </tr>\n",
       "    <tr>\n",
       "      <th>Fare</th>\n",
       "      <td>-0.021797</td>\n",
       "      <td>NaN</td>\n",
       "      <td>NaN</td>\n",
       "      <td>0.238150</td>\n",
       "      <td>0.046040</td>\n",
       "      <td>0.046041</td>\n",
       "      <td>0.007507</td>\n",
       "      <td>0.040751</td>\n",
       "      <td>0.012058</td>\n",
       "      <td>0.012058</td>\n",
       "      <td>0.006176</td>\n",
       "      <td>0.070221</td>\n",
       "      <td>0.178160</td>\n",
       "      <td>1.000000</td>\n",
       "      <td>-0.078969</td>\n",
       "      <td>-0.048352</td>\n",
       "      <td>-0.113036</td>\n",
       "      <td>-0.057475</td>\n",
       "      <td>-0.108190</td>\n",
       "    </tr>\n",
       "    <tr>\n",
       "      <th>Number_Passengers</th>\n",
       "      <td>0.046341</td>\n",
       "      <td>NaN</td>\n",
       "      <td>NaN</td>\n",
       "      <td>-0.118218</td>\n",
       "      <td>-0.015004</td>\n",
       "      <td>-0.015003</td>\n",
       "      <td>-0.001909</td>\n",
       "      <td>-0.001160</td>\n",
       "      <td>-0.003972</td>\n",
       "      <td>-0.003972</td>\n",
       "      <td>-0.012807</td>\n",
       "      <td>-0.003277</td>\n",
       "      <td>0.014601</td>\n",
       "      <td>-0.078969</td>\n",
       "      <td>1.000000</td>\n",
       "      <td>-0.043746</td>\n",
       "      <td>0.006630</td>\n",
       "      <td>-0.011024</td>\n",
       "      <td>0.000990</td>\n",
       "    </tr>\n",
       "    <tr>\n",
       "      <th>Origin_Lat</th>\n",
       "      <td>-0.237929</td>\n",
       "      <td>NaN</td>\n",
       "      <td>NaN</td>\n",
       "      <td>0.000987</td>\n",
       "      <td>-0.020837</td>\n",
       "      <td>-0.020838</td>\n",
       "      <td>-0.024407</td>\n",
       "      <td>-0.103383</td>\n",
       "      <td>-0.009940</td>\n",
       "      <td>-0.009940</td>\n",
       "      <td>-0.037614</td>\n",
       "      <td>-0.069018</td>\n",
       "      <td>-0.152578</td>\n",
       "      <td>-0.048352</td>\n",
       "      <td>-0.043746</td>\n",
       "      <td>1.000000</td>\n",
       "      <td>0.228975</td>\n",
       "      <td>0.203122</td>\n",
       "      <td>0.076513</td>\n",
       "    </tr>\n",
       "    <tr>\n",
       "      <th>Origin_Long</th>\n",
       "      <td>-0.216727</td>\n",
       "      <td>NaN</td>\n",
       "      <td>NaN</td>\n",
       "      <td>-0.051510</td>\n",
       "      <td>-0.223250</td>\n",
       "      <td>-0.223253</td>\n",
       "      <td>-0.027384</td>\n",
       "      <td>-0.749830</td>\n",
       "      <td>-0.072536</td>\n",
       "      <td>-0.072538</td>\n",
       "      <td>0.033327</td>\n",
       "      <td>-0.315620</td>\n",
       "      <td>-0.350074</td>\n",
       "      <td>-0.113036</td>\n",
       "      <td>0.006630</td>\n",
       "      <td>0.228975</td>\n",
       "      <td>1.000000</td>\n",
       "      <td>0.065045</td>\n",
       "      <td>0.367660</td>\n",
       "    </tr>\n",
       "    <tr>\n",
       "      <th>Destination_Lat</th>\n",
       "      <td>-0.225186</td>\n",
       "      <td>NaN</td>\n",
       "      <td>NaN</td>\n",
       "      <td>-0.012298</td>\n",
       "      <td>0.043132</td>\n",
       "      <td>0.043132</td>\n",
       "      <td>-0.013830</td>\n",
       "      <td>-0.059187</td>\n",
       "      <td>-0.019542</td>\n",
       "      <td>-0.019543</td>\n",
       "      <td>-0.040504</td>\n",
       "      <td>-0.082174</td>\n",
       "      <td>-0.123178</td>\n",
       "      <td>-0.057475</td>\n",
       "      <td>-0.011024</td>\n",
       "      <td>0.203122</td>\n",
       "      <td>0.065045</td>\n",
       "      <td>1.000000</td>\n",
       "      <td>0.165915</td>\n",
       "    </tr>\n",
       "    <tr>\n",
       "      <th>Destination_Long</th>\n",
       "      <td>-0.199128</td>\n",
       "      <td>NaN</td>\n",
       "      <td>NaN</td>\n",
       "      <td>-0.020021</td>\n",
       "      <td>-0.063436</td>\n",
       "      <td>-0.063437</td>\n",
       "      <td>0.063658</td>\n",
       "      <td>-0.315655</td>\n",
       "      <td>-0.239980</td>\n",
       "      <td>-0.239982</td>\n",
       "      <td>0.009917</td>\n",
       "      <td>-0.771935</td>\n",
       "      <td>-0.371075</td>\n",
       "      <td>-0.108190</td>\n",
       "      <td>0.000990</td>\n",
       "      <td>0.076513</td>\n",
       "      <td>0.367660</td>\n",
       "      <td>0.165915</td>\n",
       "      <td>1.000000</td>\n",
       "    </tr>\n",
       "  </tbody>\n",
       "</table>\n",
       "</div>"
      ],
      "text/plain": [
       "                       Itinerary_ID  Year  Quarter  Number_Coupons  \\\n",
       "Itinerary_ID               1.000000   NaN      NaN       -0.058713   \n",
       "Year                            NaN   NaN      NaN             NaN   \n",
       "Quarter                         NaN   NaN      NaN             NaN   \n",
       "Number_Coupons            -0.058713   NaN      NaN        1.000000   \n",
       "Origin_Airport_ID          0.026708   NaN      NaN        0.020066   \n",
       "Origin_Airport_Seq_ID      0.026708   NaN      NaN        0.020067   \n",
       "Origin_City_Market_ID     -0.062774   NaN      NaN        0.019021   \n",
       "Origin_WAC                 0.228079   NaN      NaN        0.032074   \n",
       "Dest_Airport_ID            0.082831   NaN      NaN       -0.078809   \n",
       "Dest_Airport_Seq_ID        0.082831   NaN      NaN       -0.078809   \n",
       "Dest_City_Market_ID       -0.008146   NaN      NaN       -0.037477   \n",
       "Dest_WAC                   0.215539   NaN      NaN        0.011963   \n",
       "Flight_Distance            0.199673   NaN      NaN       -0.110634   \n",
       "Fare                      -0.021797   NaN      NaN        0.238150   \n",
       "Number_Passengers          0.046341   NaN      NaN       -0.118218   \n",
       "Origin_Lat                -0.237929   NaN      NaN        0.000987   \n",
       "Origin_Long               -0.216727   NaN      NaN       -0.051510   \n",
       "Destination_Lat           -0.225186   NaN      NaN       -0.012298   \n",
       "Destination_Long          -0.199128   NaN      NaN       -0.020021   \n",
       "\n",
       "                       Origin_Airport_ID  Origin_Airport_Seq_ID  \\\n",
       "Itinerary_ID                    0.026708               0.026708   \n",
       "Year                                 NaN                    NaN   \n",
       "Quarter                              NaN                    NaN   \n",
       "Number_Coupons                  0.020066               0.020067   \n",
       "Origin_Airport_ID               1.000000               1.000000   \n",
       "Origin_Airport_Seq_ID           1.000000               1.000000   \n",
       "Origin_City_Market_ID           0.650358               0.650357   \n",
       "Origin_WAC                      0.134023               0.134026   \n",
       "Dest_Airport_ID                -0.063181              -0.063180   \n",
       "Dest_Airport_Seq_ID            -0.063180              -0.063179   \n",
       "Dest_City_Market_ID            -0.078608              -0.078607   \n",
       "Dest_WAC                        0.032157               0.032158   \n",
       "Flight_Distance                 0.111828               0.111829   \n",
       "Fare                            0.046040               0.046041   \n",
       "Number_Passengers              -0.015004              -0.015003   \n",
       "Origin_Lat                     -0.020837              -0.020838   \n",
       "Origin_Long                    -0.223250              -0.223253   \n",
       "Destination_Lat                 0.043132               0.043132   \n",
       "Destination_Long               -0.063436              -0.063437   \n",
       "\n",
       "                       Origin_City_Market_ID  Origin_WAC  Dest_Airport_ID  \\\n",
       "Itinerary_ID                       -0.062774    0.228079         0.082831   \n",
       "Year                                     NaN         NaN              NaN   \n",
       "Quarter                                  NaN         NaN              NaN   \n",
       "Number_Coupons                      0.019021    0.032074        -0.078809   \n",
       "Origin_Airport_ID                   0.650358    0.134023        -0.063181   \n",
       "Origin_Airport_Seq_ID               0.650357    0.134026        -0.063180   \n",
       "Origin_City_Market_ID               1.000000   -0.104572        -0.080906   \n",
       "Origin_WAC                         -0.104572    1.000000         0.049224   \n",
       "Dest_Airport_ID                    -0.080906    0.049224         1.000000   \n",
       "Dest_Airport_Seq_ID                -0.080905    0.049225         1.000000   \n",
       "Dest_City_Market_ID                -0.145763   -0.026725         0.644389   \n",
       "Dest_WAC                           -0.077203    0.278698         0.145370   \n",
       "Flight_Distance                     0.082851    0.109905         0.137068   \n",
       "Fare                                0.007507    0.040751         0.012058   \n",
       "Number_Passengers                  -0.001909   -0.001160        -0.003972   \n",
       "Origin_Lat                         -0.024407   -0.103383        -0.009940   \n",
       "Origin_Long                        -0.027384   -0.749830        -0.072536   \n",
       "Destination_Lat                    -0.013830   -0.059187        -0.019542   \n",
       "Destination_Long                    0.063658   -0.315655        -0.239980   \n",
       "\n",
       "                       Dest_Airport_Seq_ID  Dest_City_Market_ID  Dest_WAC  \\\n",
       "Itinerary_ID                      0.082831            -0.008146  0.215539   \n",
       "Year                                   NaN                  NaN       NaN   \n",
       "Quarter                                NaN                  NaN       NaN   \n",
       "Number_Coupons                   -0.078809            -0.037477  0.011963   \n",
       "Origin_Airport_ID                -0.063180            -0.078608  0.032157   \n",
       "Origin_Airport_Seq_ID            -0.063179            -0.078607  0.032158   \n",
       "Origin_City_Market_ID            -0.080905            -0.145763 -0.077203   \n",
       "Origin_WAC                        0.049225            -0.026725  0.278698   \n",
       "Dest_Airport_ID                   1.000000             0.644389  0.145370   \n",
       "Dest_Airport_Seq_ID               1.000000             0.644388  0.145372   \n",
       "Dest_City_Market_ID               0.644388             1.000000 -0.114195   \n",
       "Dest_WAC                          0.145372            -0.114195  1.000000   \n",
       "Flight_Distance                   0.137069             0.025486  0.158233   \n",
       "Fare                              0.012058             0.006176  0.070221   \n",
       "Number_Passengers                -0.003972            -0.012807 -0.003277   \n",
       "Origin_Lat                       -0.009940            -0.037614 -0.069018   \n",
       "Origin_Long                      -0.072538             0.033327 -0.315620   \n",
       "Destination_Lat                  -0.019543            -0.040504 -0.082174   \n",
       "Destination_Long                 -0.239982             0.009917 -0.771935   \n",
       "\n",
       "                       Flight_Distance      Fare  Number_Passengers  \\\n",
       "Itinerary_ID                  0.199673 -0.021797           0.046341   \n",
       "Year                               NaN       NaN                NaN   \n",
       "Quarter                            NaN       NaN                NaN   \n",
       "Number_Coupons               -0.110634  0.238150          -0.118218   \n",
       "Origin_Airport_ID             0.111828  0.046040          -0.015004   \n",
       "Origin_Airport_Seq_ID         0.111829  0.046041          -0.015003   \n",
       "Origin_City_Market_ID         0.082851  0.007507          -0.001909   \n",
       "Origin_WAC                    0.109905  0.040751          -0.001160   \n",
       "Dest_Airport_ID               0.137068  0.012058          -0.003972   \n",
       "Dest_Airport_Seq_ID           0.137069  0.012058          -0.003972   \n",
       "Dest_City_Market_ID           0.025486  0.006176          -0.012807   \n",
       "Dest_WAC                      0.158233  0.070221          -0.003277   \n",
       "Flight_Distance               1.000000  0.178160           0.014601   \n",
       "Fare                          0.178160  1.000000          -0.078969   \n",
       "Number_Passengers             0.014601 -0.078969           1.000000   \n",
       "Origin_Lat                   -0.152578 -0.048352          -0.043746   \n",
       "Origin_Long                  -0.350074 -0.113036           0.006630   \n",
       "Destination_Lat              -0.123178 -0.057475          -0.011024   \n",
       "Destination_Long             -0.371075 -0.108190           0.000990   \n",
       "\n",
       "                       Origin_Lat  Origin_Long  Destination_Lat  \\\n",
       "Itinerary_ID            -0.237929    -0.216727        -0.225186   \n",
       "Year                          NaN          NaN              NaN   \n",
       "Quarter                       NaN          NaN              NaN   \n",
       "Number_Coupons           0.000987    -0.051510        -0.012298   \n",
       "Origin_Airport_ID       -0.020837    -0.223250         0.043132   \n",
       "Origin_Airport_Seq_ID   -0.020838    -0.223253         0.043132   \n",
       "Origin_City_Market_ID   -0.024407    -0.027384        -0.013830   \n",
       "Origin_WAC              -0.103383    -0.749830        -0.059187   \n",
       "Dest_Airport_ID         -0.009940    -0.072536        -0.019542   \n",
       "Dest_Airport_Seq_ID     -0.009940    -0.072538        -0.019543   \n",
       "Dest_City_Market_ID     -0.037614     0.033327        -0.040504   \n",
       "Dest_WAC                -0.069018    -0.315620        -0.082174   \n",
       "Flight_Distance         -0.152578    -0.350074        -0.123178   \n",
       "Fare                    -0.048352    -0.113036        -0.057475   \n",
       "Number_Passengers       -0.043746     0.006630        -0.011024   \n",
       "Origin_Lat               1.000000     0.228975         0.203122   \n",
       "Origin_Long              0.228975     1.000000         0.065045   \n",
       "Destination_Lat          0.203122     0.065045         1.000000   \n",
       "Destination_Long         0.076513     0.367660         0.165915   \n",
       "\n",
       "                       Destination_Long  \n",
       "Itinerary_ID                  -0.199128  \n",
       "Year                                NaN  \n",
       "Quarter                             NaN  \n",
       "Number_Coupons                -0.020021  \n",
       "Origin_Airport_ID             -0.063436  \n",
       "Origin_Airport_Seq_ID         -0.063437  \n",
       "Origin_City_Market_ID          0.063658  \n",
       "Origin_WAC                    -0.315655  \n",
       "Dest_Airport_ID               -0.239980  \n",
       "Dest_Airport_Seq_ID           -0.239982  \n",
       "Dest_City_Market_ID            0.009917  \n",
       "Dest_WAC                      -0.771935  \n",
       "Flight_Distance               -0.371075  \n",
       "Fare                          -0.108190  \n",
       "Number_Passengers              0.000990  \n",
       "Origin_Lat                     0.076513  \n",
       "Origin_Long                    0.367660  \n",
       "Destination_Lat                0.165915  \n",
       "Destination_Long               1.000000  "
      ]
     },
     "execution_count": 8,
     "metadata": {},
     "output_type": "execute_result"
    }
   ],
   "source": [
    "corrs = df.corr()\n",
    "corrs"
   ]
  },
  {
   "cell_type": "code",
   "execution_count": 9,
   "metadata": {},
   "outputs": [
    {
     "data": {
      "text/html": [
       "<div>\n",
       "<style scoped>\n",
       "    .dataframe tbody tr th:only-of-type {\n",
       "        vertical-align: middle;\n",
       "    }\n",
       "\n",
       "    .dataframe tbody tr th {\n",
       "        vertical-align: top;\n",
       "    }\n",
       "\n",
       "    .dataframe thead th {\n",
       "        text-align: right;\n",
       "    }\n",
       "</style>\n",
       "<table border=\"1\" class=\"dataframe\">\n",
       "  <thead>\n",
       "    <tr style=\"text-align: right;\">\n",
       "      <th></th>\n",
       "      <th>Itinerary_ID</th>\n",
       "      <th>Year</th>\n",
       "      <th>Quarter</th>\n",
       "      <th>Number_Coupons</th>\n",
       "      <th>Origin_Airport_ID</th>\n",
       "      <th>Origin_Airport_Seq_ID</th>\n",
       "      <th>Origin_City_Market_ID</th>\n",
       "      <th>Origin</th>\n",
       "      <th>Origin_State</th>\n",
       "      <th>Origin_WAC</th>\n",
       "      <th>...</th>\n",
       "      <th>Origin_Airport</th>\n",
       "      <th>Origin_City</th>\n",
       "      <th>Origin_Lat</th>\n",
       "      <th>Origin_Long</th>\n",
       "      <th>Destination_Airport</th>\n",
       "      <th>Destination_City</th>\n",
       "      <th>State</th>\n",
       "      <th>Country</th>\n",
       "      <th>Destination_Lat</th>\n",
       "      <th>Destination_Long</th>\n",
       "    </tr>\n",
       "  </thead>\n",
       "  <tbody>\n",
       "    <tr>\n",
       "      <th>33238</th>\n",
       "      <td>20201309557</td>\n",
       "      <td>2020</td>\n",
       "      <td>1</td>\n",
       "      <td>4</td>\n",
       "      <td>14843</td>\n",
       "      <td>1484306</td>\n",
       "      <td>34819</td>\n",
       "      <td>SJU</td>\n",
       "      <td>PR</td>\n",
       "      <td>3</td>\n",
       "      <td>...</td>\n",
       "      <td>Luis Muñoz Marín International Airport</td>\n",
       "      <td>San Juan</td>\n",
       "      <td>18.43942</td>\n",
       "      <td>-66.00183</td>\n",
       "      <td>Miami International Airport</td>\n",
       "      <td>Miami</td>\n",
       "      <td>FL</td>\n",
       "      <td>USA</td>\n",
       "      <td>25.79325</td>\n",
       "      <td>-80.29056</td>\n",
       "    </tr>\n",
       "    <tr>\n",
       "      <th>31402</th>\n",
       "      <td>2020171849</td>\n",
       "      <td>2020</td>\n",
       "      <td>1</td>\n",
       "      <td>4</td>\n",
       "      <td>13485</td>\n",
       "      <td>1348502</td>\n",
       "      <td>33485</td>\n",
       "      <td>MSN</td>\n",
       "      <td>WI</td>\n",
       "      <td>45</td>\n",
       "      <td>...</td>\n",
       "      <td>Dane County Regional Airport</td>\n",
       "      <td>Madison</td>\n",
       "      <td>43.13986</td>\n",
       "      <td>-89.33751</td>\n",
       "      <td>LaGuardia Airport (Marine Air Terminal)</td>\n",
       "      <td>New York</td>\n",
       "      <td>NY</td>\n",
       "      <td>USA</td>\n",
       "      <td>40.77724</td>\n",
       "      <td>-73.87261</td>\n",
       "    </tr>\n",
       "    <tr>\n",
       "      <th>54983</th>\n",
       "      <td>20201411032</td>\n",
       "      <td>2020</td>\n",
       "      <td>1</td>\n",
       "      <td>2</td>\n",
       "      <td>11298</td>\n",
       "      <td>1129806</td>\n",
       "      <td>30194</td>\n",
       "      <td>DFW</td>\n",
       "      <td>TX</td>\n",
       "      <td>74</td>\n",
       "      <td>...</td>\n",
       "      <td>Dallas/Fort Worth International Airport</td>\n",
       "      <td>Dallas-Fort Worth</td>\n",
       "      <td>32.89595</td>\n",
       "      <td>-97.03720</td>\n",
       "      <td>Indianapolis International Airport</td>\n",
       "      <td>Indianapolis</td>\n",
       "      <td>IN</td>\n",
       "      <td>USA</td>\n",
       "      <td>39.71733</td>\n",
       "      <td>-86.29438</td>\n",
       "    </tr>\n",
       "    <tr>\n",
       "      <th>10574</th>\n",
       "      <td>20201249202</td>\n",
       "      <td>2020</td>\n",
       "      <td>1</td>\n",
       "      <td>2</td>\n",
       "      <td>11193</td>\n",
       "      <td>1119302</td>\n",
       "      <td>33105</td>\n",
       "      <td>CVG</td>\n",
       "      <td>KY</td>\n",
       "      <td>52</td>\n",
       "      <td>...</td>\n",
       "      <td>Cincinnati/Northern Kentucky International Air...</td>\n",
       "      <td>Covington</td>\n",
       "      <td>39.04614</td>\n",
       "      <td>-84.66217</td>\n",
       "      <td>Phoenix Sky Harbor International Airport</td>\n",
       "      <td>Phoenix</td>\n",
       "      <td>AZ</td>\n",
       "      <td>USA</td>\n",
       "      <td>33.43417</td>\n",
       "      <td>-112.00806</td>\n",
       "    </tr>\n",
       "    <tr>\n",
       "      <th>37150</th>\n",
       "      <td>20201549218</td>\n",
       "      <td>2020</td>\n",
       "      <td>1</td>\n",
       "      <td>2</td>\n",
       "      <td>14100</td>\n",
       "      <td>1410005</td>\n",
       "      <td>34100</td>\n",
       "      <td>PHL</td>\n",
       "      <td>PA</td>\n",
       "      <td>23</td>\n",
       "      <td>...</td>\n",
       "      <td>Philadelphia International Airport</td>\n",
       "      <td>Philadelphia</td>\n",
       "      <td>39.87195</td>\n",
       "      <td>-75.24114</td>\n",
       "      <td>Fort Lauderdale-Hollywood International Airport</td>\n",
       "      <td>Ft. Lauderdale</td>\n",
       "      <td>FL</td>\n",
       "      <td>USA</td>\n",
       "      <td>26.07258</td>\n",
       "      <td>-80.15275</td>\n",
       "    </tr>\n",
       "    <tr>\n",
       "      <th>...</th>\n",
       "      <td>...</td>\n",
       "      <td>...</td>\n",
       "      <td>...</td>\n",
       "      <td>...</td>\n",
       "      <td>...</td>\n",
       "      <td>...</td>\n",
       "      <td>...</td>\n",
       "      <td>...</td>\n",
       "      <td>...</td>\n",
       "      <td>...</td>\n",
       "      <td>...</td>\n",
       "      <td>...</td>\n",
       "      <td>...</td>\n",
       "      <td>...</td>\n",
       "      <td>...</td>\n",
       "      <td>...</td>\n",
       "      <td>...</td>\n",
       "      <td>...</td>\n",
       "      <td>...</td>\n",
       "      <td>...</td>\n",
       "      <td>...</td>\n",
       "    </tr>\n",
       "    <tr>\n",
       "      <th>55720</th>\n",
       "      <td>20201127106</td>\n",
       "      <td>2020</td>\n",
       "      <td>1</td>\n",
       "      <td>4</td>\n",
       "      <td>11057</td>\n",
       "      <td>1105703</td>\n",
       "      <td>31057</td>\n",
       "      <td>CLT</td>\n",
       "      <td>NC</td>\n",
       "      <td>36</td>\n",
       "      <td>...</td>\n",
       "      <td>Charlotte Douglas International Airport</td>\n",
       "      <td>Charlotte</td>\n",
       "      <td>35.21401</td>\n",
       "      <td>-80.94313</td>\n",
       "      <td>Southwest Florida International Airport</td>\n",
       "      <td>Ft. Myers</td>\n",
       "      <td>FL</td>\n",
       "      <td>USA</td>\n",
       "      <td>26.53617</td>\n",
       "      <td>-81.75517</td>\n",
       "    </tr>\n",
       "    <tr>\n",
       "      <th>56936</th>\n",
       "      <td>20201312936</td>\n",
       "      <td>2020</td>\n",
       "      <td>1</td>\n",
       "      <td>3</td>\n",
       "      <td>13891</td>\n",
       "      <td>1389101</td>\n",
       "      <td>32575</td>\n",
       "      <td>ONT</td>\n",
       "      <td>CA</td>\n",
       "      <td>91</td>\n",
       "      <td>...</td>\n",
       "      <td>Ontario International Airport</td>\n",
       "      <td>Ontario</td>\n",
       "      <td>34.05600</td>\n",
       "      <td>-117.60119</td>\n",
       "      <td>San Diego International Airport (Lindbergh Field)</td>\n",
       "      <td>San Diego</td>\n",
       "      <td>CA</td>\n",
       "      <td>USA</td>\n",
       "      <td>32.73356</td>\n",
       "      <td>-117.18966</td>\n",
       "    </tr>\n",
       "    <tr>\n",
       "      <th>3647</th>\n",
       "      <td>20201307988</td>\n",
       "      <td>2020</td>\n",
       "      <td>1</td>\n",
       "      <td>2</td>\n",
       "      <td>13303</td>\n",
       "      <td>1330303</td>\n",
       "      <td>32467</td>\n",
       "      <td>MIA</td>\n",
       "      <td>FL</td>\n",
       "      <td>33</td>\n",
       "      <td>...</td>\n",
       "      <td>Miami International Airport</td>\n",
       "      <td>Miami</td>\n",
       "      <td>25.79325</td>\n",
       "      <td>-80.29056</td>\n",
       "      <td>Dallas/Fort Worth International Airport</td>\n",
       "      <td>Dallas-Fort Worth</td>\n",
       "      <td>TX</td>\n",
       "      <td>USA</td>\n",
       "      <td>32.89595</td>\n",
       "      <td>-97.03720</td>\n",
       "    </tr>\n",
       "    <tr>\n",
       "      <th>57611</th>\n",
       "      <td>20201362449</td>\n",
       "      <td>2020</td>\n",
       "      <td>1</td>\n",
       "      <td>2</td>\n",
       "      <td>11057</td>\n",
       "      <td>1105703</td>\n",
       "      <td>31057</td>\n",
       "      <td>CLT</td>\n",
       "      <td>NC</td>\n",
       "      <td>36</td>\n",
       "      <td>...</td>\n",
       "      <td>Charlotte Douglas International Airport</td>\n",
       "      <td>Charlotte</td>\n",
       "      <td>35.21401</td>\n",
       "      <td>-80.94313</td>\n",
       "      <td>Albert J. Ellis Airport</td>\n",
       "      <td>Jacksonville</td>\n",
       "      <td>NC</td>\n",
       "      <td>USA</td>\n",
       "      <td>34.82916</td>\n",
       "      <td>-77.61214</td>\n",
       "    </tr>\n",
       "    <tr>\n",
       "      <th>15593</th>\n",
       "      <td>2020189332</td>\n",
       "      <td>2020</td>\n",
       "      <td>1</td>\n",
       "      <td>4</td>\n",
       "      <td>11697</td>\n",
       "      <td>1169706</td>\n",
       "      <td>32467</td>\n",
       "      <td>FLL</td>\n",
       "      <td>FL</td>\n",
       "      <td>33</td>\n",
       "      <td>...</td>\n",
       "      <td>Fort Lauderdale-Hollywood International Airport</td>\n",
       "      <td>Ft. Lauderdale</td>\n",
       "      <td>26.07258</td>\n",
       "      <td>-80.15275</td>\n",
       "      <td>Hartsfield-Jackson Atlanta International Airport</td>\n",
       "      <td>Atlanta</td>\n",
       "      <td>GA</td>\n",
       "      <td>USA</td>\n",
       "      <td>33.64044</td>\n",
       "      <td>-84.42694</td>\n",
       "    </tr>\n",
       "  </tbody>\n",
       "</table>\n",
       "<p>3265 rows × 32 columns</p>\n",
       "</div>"
      ],
      "text/plain": [
       "       Itinerary_ID  Year  Quarter  Number_Coupons  Origin_Airport_ID  \\\n",
       "33238   20201309557  2020        1               4              14843   \n",
       "31402    2020171849  2020        1               4              13485   \n",
       "54983   20201411032  2020        1               2              11298   \n",
       "10574   20201249202  2020        1               2              11193   \n",
       "37150   20201549218  2020        1               2              14100   \n",
       "...             ...   ...      ...             ...                ...   \n",
       "55720   20201127106  2020        1               4              11057   \n",
       "56936   20201312936  2020        1               3              13891   \n",
       "3647    20201307988  2020        1               2              13303   \n",
       "57611   20201362449  2020        1               2              11057   \n",
       "15593    2020189332  2020        1               4              11697   \n",
       "\n",
       "       Origin_Airport_Seq_ID  Origin_City_Market_ID Origin Origin_State  \\\n",
       "33238                1484306                  34819    SJU           PR   \n",
       "31402                1348502                  33485    MSN           WI   \n",
       "54983                1129806                  30194    DFW           TX   \n",
       "10574                1119302                  33105    CVG           KY   \n",
       "37150                1410005                  34100    PHL           PA   \n",
       "...                      ...                    ...    ...          ...   \n",
       "55720                1105703                  31057    CLT           NC   \n",
       "56936                1389101                  32575    ONT           CA   \n",
       "3647                 1330303                  32467    MIA           FL   \n",
       "57611                1105703                  31057    CLT           NC   \n",
       "15593                1169706                  32467    FLL           FL   \n",
       "\n",
       "       Origin_WAC  ...                                     Origin_Airport  \\\n",
       "33238           3  ...             Luis Muñoz Marín International Airport   \n",
       "31402          45  ...                       Dane County Regional Airport   \n",
       "54983          74  ...            Dallas/Fort Worth International Airport   \n",
       "10574          52  ...  Cincinnati/Northern Kentucky International Air...   \n",
       "37150          23  ...                 Philadelphia International Airport   \n",
       "...           ...  ...                                                ...   \n",
       "55720          36  ...            Charlotte Douglas International Airport   \n",
       "56936          91  ...                      Ontario International Airport   \n",
       "3647           33  ...                        Miami International Airport   \n",
       "57611          36  ...            Charlotte Douglas International Airport   \n",
       "15593          33  ...    Fort Lauderdale-Hollywood International Airport   \n",
       "\n",
       "             Origin_City  Origin_Lat Origin_Long  \\\n",
       "33238           San Juan    18.43942   -66.00183   \n",
       "31402            Madison    43.13986   -89.33751   \n",
       "54983  Dallas-Fort Worth    32.89595   -97.03720   \n",
       "10574          Covington    39.04614   -84.66217   \n",
       "37150       Philadelphia    39.87195   -75.24114   \n",
       "...                  ...         ...         ...   \n",
       "55720          Charlotte    35.21401   -80.94313   \n",
       "56936            Ontario    34.05600  -117.60119   \n",
       "3647               Miami    25.79325   -80.29056   \n",
       "57611          Charlotte    35.21401   -80.94313   \n",
       "15593     Ft. Lauderdale    26.07258   -80.15275   \n",
       "\n",
       "                                     Destination_Airport   Destination_City  \\\n",
       "33238                        Miami International Airport              Miami   \n",
       "31402            LaGuardia Airport (Marine Air Terminal)           New York   \n",
       "54983                 Indianapolis International Airport       Indianapolis   \n",
       "10574           Phoenix Sky Harbor International Airport            Phoenix   \n",
       "37150    Fort Lauderdale-Hollywood International Airport     Ft. Lauderdale   \n",
       "...                                                  ...                ...   \n",
       "55720            Southwest Florida International Airport          Ft. Myers   \n",
       "56936  San Diego International Airport (Lindbergh Field)          San Diego   \n",
       "3647             Dallas/Fort Worth International Airport  Dallas-Fort Worth   \n",
       "57611                            Albert J. Ellis Airport       Jacksonville   \n",
       "15593   Hartsfield-Jackson Atlanta International Airport            Atlanta   \n",
       "\n",
       "       State  Country Destination_Lat Destination_Long  \n",
       "33238     FL      USA        25.79325        -80.29056  \n",
       "31402     NY      USA        40.77724        -73.87261  \n",
       "54983     IN      USA        39.71733        -86.29438  \n",
       "10574     AZ      USA        33.43417       -112.00806  \n",
       "37150     FL      USA        26.07258        -80.15275  \n",
       "...      ...      ...             ...              ...  \n",
       "55720     FL      USA        26.53617        -81.75517  \n",
       "56936     CA      USA        32.73356       -117.18966  \n",
       "3647      TX      USA        32.89595        -97.03720  \n",
       "57611     NC      USA        34.82916        -77.61214  \n",
       "15593     GA      USA        33.64044        -84.42694  \n",
       "\n",
       "[3265 rows x 32 columns]"
      ]
     },
     "execution_count": 9,
     "metadata": {},
     "output_type": "execute_result"
    }
   ],
   "source": [
    "df = df.dropna(how=\"any\")\n",
    "df"
   ]
  },
  {
   "cell_type": "code",
   "execution_count": 10,
   "metadata": {},
   "outputs": [
    {
     "data": {
      "text/plain": [
       "<matplotlib.axes._subplots.AxesSubplot at 0x14ab98abf88>"
      ]
     },
     "execution_count": 10,
     "metadata": {},
     "output_type": "execute_result"
    },
    {
     "data": {
      "image/png": "[encoded data removed]",
      "text/plain": [
       "<Figure size 432x288 with 2 Axes>"
      ]
     },
     "metadata": {
      "needs_background": "light"
     },
     "output_type": "display_data"
    }
   ],
   "source": [
    "sn.heatmap(corrs)"
   ]
  },
  {
   "cell_type": "code",
   "execution_count": 11,
   "metadata": {},
   "outputs": [
    {
     "data": {
      "text/plain": [
       "Fare                     1.000000\n",
       "Number_Coupons           0.238150\n",
       "Flight_Distance          0.178160\n",
       "Origin_Long              0.113036\n",
       "Destination_Long         0.108190\n",
       "Number_Passengers        0.078969\n",
       "Dest_WAC                 0.070221\n",
       "Destination_Lat          0.057475\n",
       "Origin_Lat               0.048352\n",
       "Origin_Airport_Seq_ID    0.046041\n",
       "Origin_Airport_ID        0.046040\n",
       "Origin_WAC               0.040751\n",
       "Itinerary_ID             0.021797\n",
       "Dest_Airport_Seq_ID      0.012058\n",
       "Dest_Airport_ID          0.012058\n",
       "Origin_City_Market_ID    0.007507\n",
       "Dest_City_Market_ID      0.006176\n",
       "Year                          NaN\n",
       "Quarter                       NaN\n",
       "Name: Fare, dtype: float64"
      ]
     },
     "execution_count": 11,
     "metadata": {},
     "output_type": "execute_result"
    }
   ],
   "source": [
    "abs(corrs[\"Fare\"]).sort_values(ascending=False)"
   ]
  },
  {
   "cell_type": "code",
   "execution_count": 12,
   "metadata": {},
   "outputs": [
    {
     "data": {
      "text/plain": [
       "['Number_Coupons',\n",
       " 'Dest_WAC',\n",
       " 'Number_Passengers',\n",
       " 'Origin_Long',\n",
       " 'Destination_Lat',\n",
       " 'Destination_Long']"
      ]
     },
     "execution_count": 12,
     "metadata": {},
     "output_type": "execute_result"
    }
   ],
   "source": [
    "features = list(corrs[\"Fare\"].loc[abs(corrs[\"Fare\"]) > .056].index)\n",
    "features = features[0:len(features)]\n",
    "features.pop(2)\n",
    "features.pop(2)\n",
    "#features.pop(0)\n",
    "features"
   ]
  },
  {
   "cell_type": "code",
   "execution_count": 13,
   "metadata": {},
   "outputs": [],
   "source": [
    "target_col = \"Fare\""
   ]
  },
  {
   "cell_type": "code",
   "execution_count": 14,
   "metadata": {},
   "outputs": [
    {
     "data": {
      "image/png": "[encoded data removed]",
      "text/plain": [
       "<Figure size 432x288 with 1 Axes>"
      ]
     },
     "metadata": {
      "needs_background": "light"
     },
     "output_type": "display_data"
    },
    {
     "data": {
      "image/png": "[encoded data removed]",
      "text/plain": [
       "<Figure size 432x288 with 1 Axes>"
      ]
     },
     "metadata": {
      "needs_background": "light"
     },
     "output_type": "display_data"
    },
    {
     "data": {
      "image/png": "[encoded data removed]",
      "text/plain": [
       "<Figure size 432x288 with 1 Axes>"
      ]
     },
     "metadata": {
      "needs_background": "light"
     },
     "output_type": "display_data"
    },
    {
     "data": {
      "image/png": "[encoded data removed]",
      "text/plain": [
       "<Figure size 432x288 with 1 Axes>"
      ]
     },
     "metadata": {
      "needs_background": "light"
     },
     "output_type": "display_data"
    },
    {
     "data": {
      "image/png": "[encoded data removed]",
      "text/plain": [
       "<Figure size 432x288 with 1 Axes>"
      ]
     },
     "metadata": {
      "needs_background": "light"
     },
     "output_type": "display_data"
    },
    {
     "data": {
      "image/png": "[encoded data removed]",
      "text/plain": [
       "<Figure size 432x288 with 1 Axes>"
      ]
     },
     "metadata": {
      "needs_background": "light"
     },
     "output_type": "display_data"
    }
   ],
   "source": [
    "for col in features:\n",
    "    df[[col]].hist()"
   ]
  },
  {
   "cell_type": "code",
   "execution_count": 15,
   "metadata": {},
   "outputs": [],
   "source": [
    "#split the data\n",
    "X = df[features]\n",
    "y = df[target_col].values.reshape(-1, 1)\n",
    "\n",
    "X_train, X_test, y_train, y_test = train_test_split(X, y, random_state=42, test_size=0.2)"
   ]
  },
  {
   "cell_type": "code",
   "execution_count": 16,
   "metadata": {},
   "outputs": [
    {
     "name": "stdout",
     "output_type": "stream",
     "text": [
      "(3265, 6) (3265, 1)\n"
     ]
    }
   ],
   "source": [
    "print(X.shape, y.shape)"
   ]
  },
  {
   "cell_type": "code",
   "execution_count": 17,
   "metadata": {},
   "outputs": [],
   "source": [
    "# Use train_test_split to create training and testing data\n",
    "\n",
    "from sklearn.model_selection import train_test_split\n",
    "\n",
    "X_train, X_test, y_train, y_test = train_test_split(X, y, random_state=42, train_size=0.8)"
   ]
  },
  {
   "cell_type": "code",
   "execution_count": 18,
   "metadata": {},
   "outputs": [
    {
     "name": "stdout",
     "output_type": "stream",
     "text": [
      "2612\n",
      "653\n"
     ]
    }
   ],
   "source": [
    "print(len(X_train))\n",
    "print(len(X_test))"
   ]
  },
  {
   "cell_type": "code",
   "execution_count": 19,
   "metadata": {},
   "outputs": [],
   "source": [
    " # Create the model using LinearRegression\n",
    "\n",
    "from sklearn.linear_model import LinearRegression\n",
    "\n",
    "lm = LinearRegression()"
   ]
  },
  {
   "cell_type": "code",
   "execution_count": 20,
   "metadata": {},
   "outputs": [
    {
     "data": {
      "text/plain": [
       "LinearRegression(copy_X=True, fit_intercept=True, n_jobs=None, normalize=False)"
      ]
     },
     "execution_count": 20,
     "metadata": {},
     "output_type": "execute_result"
    }
   ],
   "source": [
    "lm.fit(X_train, y_train)\n",
    "lm"
   ]
  },
  {
   "cell_type": "code",
   "execution_count": 21,
   "metadata": {},
   "outputs": [],
   "source": [
    "predictions_train_lm = lm.predict(X_train)\n",
    "predictions_test_lm = lm.predict(X_test)"
   ]
  },
  {
   "cell_type": "code",
   "execution_count": 22,
   "metadata": {},
   "outputs": [],
   "source": [
    "from sklearn.metrics import mean_squared_error, r2_score"
   ]
  },
  {
   "cell_type": "code",
   "execution_count": 23,
   "metadata": {},
   "outputs": [
    {
     "name": "stdout",
     "output_type": "stream",
     "text": [
      "Linear Regression Train\n",
      "-----------------------\n",
      "MSE:\n",
      "113664.3577538041\n",
      "r2:\n",
      "0.07803696439484153\n"
     ]
    }
   ],
   "source": [
    "mse_train_lm = mean_squared_error(y_train, predictions_train_lm)\n",
    "r2_train_lm = r2_score(y_train, predictions_train_lm)\n",
    "\n",
    "print(\"Linear Regression Train\")\n",
    "print(\"-----------------------\")\n",
    "print(\"MSE:\")\n",
    "print(mse_train_lm)\n",
    "print(\"r2:\")\n",
    "print(r2_train_lm)"
   ]
  },
  {
   "cell_type": "code",
   "execution_count": 24,
   "metadata": {},
   "outputs": [
    {
     "name": "stdout",
     "output_type": "stream",
     "text": [
      "108352.21240158756\n",
      "0.068417196508604\n"
     ]
    }
   ],
   "source": [
    "mse_test_lm = mean_squared_error(y_test, predictions_test_lm)\n",
    "r2_test_lm = r2_score(y_test, predictions_test_lm)\n",
    "\n",
    "print(mse_test_lm)\n",
    "print(r2_test_lm)"
   ]
  },
  {
   "cell_type": "code",
   "execution_count": 25,
   "metadata": {},
   "outputs": [],
   "source": [
    "import random"
   ]
  },
  {
   "cell_type": "code",
   "execution_count": 26,
   "metadata": {},
   "outputs": [],
   "source": [
    "random.seed(42)\n",
    "\n",
    "mse_train_lm_list = []\n",
    "r2_train_lm_list = []\n",
    "\n",
    "mse_test_lm_list = []\n",
    "r2_test_lm_list = []\n",
    "\n",
    "for i in range(10):\n",
    "    random_state = random.randint(0, 5000)\n",
    "    X_train, X_test, y_train, y_test = train_test_split(X, y, random_state=random_state, train_size=0.8)\n",
    "\n",
    "    lm = LinearRegression()\n",
    "    lm.fit(X_train, y_train)\n",
    "\n",
    "    predictions_train_lm = lm.predict(X_train)\n",
    "    predictions_test_lm = lm.predict(X_test)\n",
    "    \n",
    "    mse_train_lm = mean_squared_error(y_train, predictions_train_lm)\n",
    "    r2_train_lm = r2_score(y_train, predictions_train_lm)\n",
    "    mse_test_lm = mean_squared_error(y_test, predictions_test_lm)\n",
    "    r2_test_lm = r2_score(y_test, predictions_test_lm)\n",
    "\n",
    "    mse_train_lm_list.append(mse_train_lm)\n",
    "    r2_train_lm_list.append(r2_train_lm)\n",
    "    mse_test_lm_list.append(mse_test_lm)\n",
    "    r2_test_lm_list.append(r2_test_lm)"
   ]
  },
  {
   "cell_type": "code",
   "execution_count": 27,
   "metadata": {},
   "outputs": [
    {
     "data": {
      "image/png": "[encoded data removed]",
      "text/plain": [
       "<Figure size 432x288 with 1 Axes>"
      ]
     },
     "metadata": {
      "needs_background": "light"
     },
     "output_type": "display_data"
    }
   ],
   "source": [
    "plt.plot(range(10), mse_train_lm_list, label=\"train\")\n",
    "plt.plot(range(10), mse_test_lm_list, label=\"test\")\n",
    "plt.title(\"K-Fold MSE LM\")\n",
    "plt.xlabel(\"K-Fold\")\n",
    "plt.ylabel(\"MSE\")\n",
    "plt.legend()\n",
    "plt.show()"
   ]
  },
  {
   "cell_type": "code",
   "execution_count": 28,
   "metadata": {},
   "outputs": [
    {
     "data": {
      "image/png": "[encoded data removed]",
      "text/plain": [
       "<Figure size 432x288 with 1 Axes>"
      ]
     },
     "metadata": {
      "needs_background": "light"
     },
     "output_type": "display_data"
    }
   ],
   "source": [
    "plt.plot(range(10), r2_train_lm_list, label=\"train\")\n",
    "plt.plot(range(10), r2_test_lm_list, label=\"test\")\n",
    "plt.title(\"K-Fold MSE LM\")\n",
    "plt.xlabel(\"K-Fold\")\n",
    "plt.ylabel(\"R2\")\n",
    "plt.legend()\n",
    "plt.show()"
   ]
  },
  {
   "cell_type": "code",
   "execution_count": 29,
   "metadata": {},
   "outputs": [
    {
     "name": "stdout",
     "output_type": "stream",
     "text": [
      "Linear Regression\n",
      "-----------------------\n",
      "MSE Train:\n",
      "112009.63162896418\n",
      "r2 Train:\n",
      "0.07172439105245365\n",
      "MSE Test:\n",
      "102752.89674016458\n",
      "r2 Test:\n",
      "0.09581856094553676\n"
     ]
    }
   ],
   "source": [
    "print(\"Linear Regression\")\n",
    "print(\"-----------------------\")\n",
    "print(\"MSE Train:\")\n",
    "print(np.mean(mse_train_lm_list))\n",
    "print(\"r2 Train:\")\n",
    "print(np.mean(r2_train_lm))\n",
    "print(\"MSE Test:\")\n",
    "print(np.mean(mse_test_lm))\n",
    "print(\"r2 Test:\")\n",
    "print(np.mean(r2_test_lm))"
   ]
  },
  {
   "cell_type": "code",
   "execution_count": 30,
   "metadata": {},
   "outputs": [
    {
     "data": {
      "image/png": "[encoded data removed]",
      "text/plain": [
       "<Figure size 432x288 with 1 Axes>"
      ]
     },
     "metadata": {
      "needs_background": "light"
     },
     "output_type": "display_data"
    }
   ],
   "source": [
    "plt.scatter(predictions_train_lm, y_train)\n",
    "plt.title(\"LM TRAIN Predicted vs Actual\")\n",
    "plt.xlabel(\"predicted\")\n",
    "plt.ylabel(\"actual\")\n",
    "\n",
    "plt.show()"
   ]
  },
  {
   "cell_type": "code",
   "execution_count": 31,
   "metadata": {},
   "outputs": [
    {
     "data": {
      "image/png": "[encoded data removed]",
      "text/plain": [
       "<Figure size 432x288 with 1 Axes>"
      ]
     },
     "metadata": {
      "needs_background": "light"
     },
     "output_type": "display_data"
    }
   ],
   "source": [
    "plt.scatter(predictions_test_lm, y_test)\n",
    "plt.title(\"LM TEST Predicted vs Actual\")\n",
    "plt.xlabel(\"predicted\")\n",
    "plt.ylabel(\"actual\")\n",
    "\n",
    "plt.show()"
   ]
  },
  {
   "cell_type": "code",
   "execution_count": 32,
   "metadata": {},
   "outputs": [],
   "source": [
    "resid_train_lm = predictions_train_lm - y_train\n",
    "resid_test_lm = predictions_test_lm - y_test"
   ]
  },
  {
   "cell_type": "code",
   "execution_count": 33,
   "metadata": {},
   "outputs": [
    {
     "data": {
      "image/png": "[encoded data removed]",
      "text/plain": [
       "<Figure size 432x288 with 1 Axes>"
      ]
     },
     "metadata": {
      "needs_background": "light"
     },
     "output_type": "display_data"
    }
   ],
   "source": [
    "plt.scatter(range(len(resid_train_lm)), resid_train_lm)\n",
    "plt.title(\"LM TRAIN Residual Plot\")\n",
    "plt.xlabel(\"index\")\n",
    "plt.ylabel(\"residual\")\n",
    "\n",
    "plt.show()"
   ]
  },
  {
   "cell_type": "code",
   "execution_count": 34,
   "metadata": {},
   "outputs": [
    {
     "data": {
      "image/png": "[encoded data removed]",
      "text/plain": [
       "<Figure size 432x288 with 1 Axes>"
      ]
     },
     "metadata": {
      "needs_background": "light"
     },
     "output_type": "display_data"
    }
   ],
   "source": [
    "plt.scatter(range(len(resid_test_lm)), resid_test_lm)\n",
    "plt.title(\"LM TEST Residual Plot\")\n",
    "plt.xlabel(\"index\")\n",
    "plt.ylabel(\"residual\")\n",
    "\n",
    "plt.show()"
   ]
  },
  {
   "cell_type": "code",
   "execution_count": 35,
   "metadata": {},
   "outputs": [
    {
     "data": {
      "text/plain": [
       "RandomForestRegressor(bootstrap=True, ccp_alpha=0.0, criterion='mse',\n",
       "                      max_depth=None, max_features='auto', max_leaf_nodes=None,\n",
       "                      max_samples=None, min_impurity_decrease=0.0,\n",
       "                      min_impurity_split=None, min_samples_leaf=1,\n",
       "                      min_samples_split=2, min_weight_fraction_leaf=0.0,\n",
       "                      n_estimators=100, n_jobs=None, oob_score=False,\n",
       "                      random_state=None, verbose=0, warm_start=False)"
      ]
     },
     "execution_count": 35,
     "metadata": {},
     "output_type": "execute_result"
    }
   ],
   "source": [
    "from sklearn.ensemble import RandomForestRegressor\n",
    "\n",
    "rf = RandomForestRegressor()\n",
    "rf"
   ]
  },
  {
   "cell_type": "code",
   "execution_count": 36,
   "metadata": {},
   "outputs": [
    {
     "name": "stderr",
     "output_type": "stream",
     "text": [
      "C:\\Users\\Maxi\\anaconda3\\lib\\site-packages\\ipykernel_launcher.py:1: DataConversionWarning: A column-vector y was passed when a 1d array was expected. Please change the shape of y to (n_samples,), for example using ravel().\n",
      "  \"\"\"Entry point for launching an IPython kernel.\n"
     ]
    },
    {
     "data": {
      "text/plain": [
       "RandomForestRegressor(bootstrap=True, ccp_alpha=0.0, criterion='mse',\n",
       "                      max_depth=None, max_features='auto', max_leaf_nodes=None,\n",
       "                      max_samples=None, min_impurity_decrease=0.0,\n",
       "                      min_impurity_split=None, min_samples_leaf=1,\n",
       "                      min_samples_split=2, min_weight_fraction_leaf=0.0,\n",
       "                      n_estimators=100, n_jobs=None, oob_score=False,\n",
       "                      random_state=None, verbose=0, warm_start=False)"
      ]
     },
     "execution_count": 36,
     "metadata": {},
     "output_type": "execute_result"
    }
   ],
   "source": [
    "rf.fit(X_train, y_train)\n",
    "rf"
   ]
  },
  {
   "cell_type": "code",
   "execution_count": 37,
   "metadata": {},
   "outputs": [],
   "source": [
    "predictions_train_rf = rf.predict(X_train)\n",
    "predictions_test_rf = rf.predict(X_test)"
   ]
  },
  {
   "cell_type": "code",
   "execution_count": 38,
   "metadata": {},
   "outputs": [
    {
     "name": "stdout",
     "output_type": "stream",
     "text": [
      "39691.797539004765\n",
      "0.6797670239966689\n"
     ]
    }
   ],
   "source": [
    "mse_train_rf = mean_squared_error(y_train, predictions_train_rf)\n",
    "r2_train_rf = r2_score(y_train, predictions_train_rf)\n",
    "\n",
    "print(mse_train_rf)\n",
    "print(r2_train_rf)"
   ]
  },
  {
   "cell_type": "code",
   "execution_count": 39,
   "metadata": {},
   "outputs": [
    {
     "name": "stdout",
     "output_type": "stream",
     "text": [
      "141750.3693936225\n",
      "-0.24734247939433862\n"
     ]
    }
   ],
   "source": [
    "mse_test_rf = mean_squared_error(y_test, predictions_test_rf)\n",
    "r2_test_rf = r2_score(y_test, predictions_test_rf)\n",
    "\n",
    "print(mse_test_rf)\n",
    "print(r2_test_rf)"
   ]
  },
  {
   "cell_type": "code",
   "execution_count": 40,
   "metadata": {},
   "outputs": [
    {
     "data": {
      "image/png": "[encoded data removed]",
      "text/plain": [
       "<Figure size 432x288 with 1 Axes>"
      ]
     },
     "metadata": {
      "needs_background": "light"
     },
     "output_type": "display_data"
    }
   ],
   "source": [
    "plt.scatter(predictions_train_rf, y_train)\n",
    "plt.title(\"RF TRAIN Predicted vs Actual\")\n",
    "plt.xlabel(\"predicted\")\n",
    "plt.ylabel(\"actual\")\n",
    "\n",
    "plt.show()"
   ]
  },
  {
   "cell_type": "code",
   "execution_count": 41,
   "metadata": {},
   "outputs": [
    {
     "data": {
      "image/png": "[encoded data removed]",
      "text/plain": [
       "<Figure size 432x288 with 1 Axes>"
      ]
     },
     "metadata": {
      "needs_background": "light"
     },
     "output_type": "display_data"
    }
   ],
   "source": [
    "plt.scatter(predictions_test_rf, y_test)\n",
    "plt.title(\"RF TEST Predicted vs Actual\")\n",
    "plt.xlabel(\"predicted\")\n",
    "plt.ylabel(\"actual\")\n",
    "\n",
    "plt.show()"
   ]
  },
  {
   "cell_type": "code",
   "execution_count": 42,
   "metadata": {},
   "outputs": [],
   "source": [
    "resid_train_rf = predictions_train_rf - [x[0] for x in y_train]\n",
    "resid_test_rf = predictions_test_rf - [x[0] for x in y_test]"
   ]
  },
  {
   "cell_type": "code",
   "execution_count": 43,
   "metadata": {},
   "outputs": [
    {
     "data": {
      "image/png": "[encoded data removed]",
      "text/plain": [
       "<Figure size 432x288 with 1 Axes>"
      ]
     },
     "metadata": {
      "needs_background": "light"
     },
     "output_type": "display_data"
    }
   ],
   "source": [
    "plt.scatter(range(len(resid_train_rf)), resid_train_rf)\n",
    "plt.title(\"RF TRAIN Residual Plot\")\n",
    "plt.xlabel(\"index\")\n",
    "plt.ylabel(\"residual\")\n",
    "\n",
    "plt.show()"
   ]
  },
  {
   "cell_type": "code",
   "execution_count": 44,
   "metadata": {},
   "outputs": [
    {
     "data": {
      "image/png": "[encoded data removed]",
      "text/plain": [
       "<Figure size 432x288 with 1 Axes>"
      ]
     },
     "metadata": {
      "needs_background": "light"
     },
     "output_type": "display_data"
    }
   ],
   "source": [
    "plt.scatter(range(len(resid_test_rf)), resid_test_rf)\n",
    "plt.title(\"RF TEST Residual Plot\")\n",
    "plt.xlabel(\"index\")\n",
    "plt.ylabel(\"residual\")\n",
    "\n",
    "plt.show()"
   ]
  },
  {
   "cell_type": "code",
   "execution_count": 45,
   "metadata": {},
   "outputs": [
    {
     "name": "stderr",
     "output_type": "stream",
     "text": [
      "C:\\Users\\Maxi\\anaconda3\\lib\\site-packages\\ipykernel_launcher.py:14: DataConversionWarning: A column-vector y was passed when a 1d array was expected. Please change the shape of y to (n_samples,), for example using ravel().\n",
      "  \n",
      "C:\\Users\\Maxi\\anaconda3\\lib\\site-packages\\ipykernel_launcher.py:14: DataConversionWarning: A column-vector y was passed when a 1d array was expected. Please change the shape of y to (n_samples,), for example using ravel().\n",
      "  \n",
      "C:\\Users\\Maxi\\anaconda3\\lib\\site-packages\\ipykernel_launcher.py:14: DataConversionWarning: A column-vector y was passed when a 1d array was expected. Please change the shape of y to (n_samples,), for example using ravel().\n",
      "  \n",
      "C:\\Users\\Maxi\\anaconda3\\lib\\site-packages\\ipykernel_launcher.py:14: DataConversionWarning: A column-vector y was passed when a 1d array was expected. Please change the shape of y to (n_samples,), for example using ravel().\n",
      "  \n",
      "C:\\Users\\Maxi\\anaconda3\\lib\\site-packages\\ipykernel_launcher.py:14: DataConversionWarning: A column-vector y was passed when a 1d array was expected. Please change the shape of y to (n_samples,), for example using ravel().\n",
      "  \n",
      "C:\\Users\\Maxi\\anaconda3\\lib\\site-packages\\ipykernel_launcher.py:14: DataConversionWarning: A column-vector y was passed when a 1d array was expected. Please change the shape of y to (n_samples,), for example using ravel().\n",
      "  \n",
      "C:\\Users\\Maxi\\anaconda3\\lib\\site-packages\\ipykernel_launcher.py:14: DataConversionWarning: A column-vector y was passed when a 1d array was expected. Please change the shape of y to (n_samples,), for example using ravel().\n",
      "  \n",
      "C:\\Users\\Maxi\\anaconda3\\lib\\site-packages\\ipykernel_launcher.py:14: DataConversionWarning: A column-vector y was passed when a 1d array was expected. Please change the shape of y to (n_samples,), for example using ravel().\n",
      "  \n",
      "C:\\Users\\Maxi\\anaconda3\\lib\\site-packages\\ipykernel_launcher.py:14: DataConversionWarning: A column-vector y was passed when a 1d array was expected. Please change the shape of y to (n_samples,), for example using ravel().\n",
      "  \n",
      "C:\\Users\\Maxi\\anaconda3\\lib\\site-packages\\ipykernel_launcher.py:14: DataConversionWarning: A column-vector y was passed when a 1d array was expected. Please change the shape of y to (n_samples,), for example using ravel().\n",
      "  \n"
     ]
    }
   ],
   "source": [
    "random.seed(42)\n",
    "\n",
    "mse_train_rf_list = []\n",
    "r2_train_rf_list = []\n",
    "\n",
    "mse_test_rf_list = []\n",
    "r2_test_rf_list = []\n",
    "\n",
    "for i in range(10):\n",
    "    random_state = random.randint(0, 5000)\n",
    "    X_train, X_test, y_train, y_test = train_test_split(X, y, random_state=random_state, train_size=0.8)\n",
    "\n",
    "    rf = RandomForestRegressor()\n",
    "    rf.fit(X_train, y_train)\n",
    "\n",
    "    predictions_train_rf = rf.predict(X_train)\n",
    "    predictions_test_rf = rf.predict(X_test)\n",
    "    \n",
    "    mse_train_rf = mean_squared_error(y_train, predictions_train_rf)\n",
    "    r2_train_rf = r2_score(y_train, predictions_train_rf)\n",
    "    mse_test_rf = mean_squared_error(y_test, predictions_test_rf)\n",
    "    r2_test_rf = r2_score(y_test, predictions_test_rf)\n",
    "\n",
    "    mse_train_rf_list.append(mse_train_rf)\n",
    "    r2_train_rf_list.append(r2_train_rf)\n",
    "    mse_test_rf_list.append(mse_test_rf)\n",
    "    r2_test_rf_list.append(r2_test_rf)"
   ]
  },
  {
   "cell_type": "code",
   "execution_count": 46,
   "metadata": {},
   "outputs": [
    {
     "data": {
      "image/png": "[encoded data removed]",
      "text/plain": [
       "<Figure size 432x288 with 1 Axes>"
      ]
     },
     "metadata": {
      "needs_background": "light"
     },
     "output_type": "display_data"
    }
   ],
   "source": [
    "plt.plot(range(10), mse_train_rf_list, label=\"train\")\n",
    "plt.plot(range(10), mse_test_rf_list, label=\"test\")\n",
    "plt.title(\"K-Fold MSE RF\")\n",
    "plt.xlabel(\"K-Fold\")\n",
    "plt.ylabel(\"MSE\")\n",
    "plt.legend()\n",
    "plt.show()"
   ]
  },
  {
   "cell_type": "code",
   "execution_count": 47,
   "metadata": {},
   "outputs": [
    {
     "data": {
      "image/png": "[encoded data removed]",
      "text/plain": [
       "<Figure size 432x288 with 1 Axes>"
      ]
     },
     "metadata": {
      "needs_background": "light"
     },
     "output_type": "display_data"
    }
   ],
   "source": [
    "plt.plot(range(10), r2_train_rf_list, label=\"train\")\n",
    "plt.plot(range(10), r2_test_rf_list, label=\"test\")\n",
    "plt.title(\"K-Fold MSE RF\")\n",
    "plt.xlabel(\"K-Fold\")\n",
    "plt.ylabel(\"R2\")\n",
    "plt.legend()\n",
    "plt.show()"
   ]
  },
  {
   "cell_type": "code",
   "execution_count": 48,
   "metadata": {},
   "outputs": [
    {
     "name": "stdout",
     "output_type": "stream",
     "text": [
      "Random Forest Regressor\n",
      "-----------------------\n",
      "MSE Train:\n",
      "40064.853104656286\n",
      "r2 Train:\n",
      "0.680697410528068\n",
      "MSE Test:\n",
      "140251.8762109927\n",
      "r2 Test:\n",
      "-0.23415638182173448\n"
     ]
    }
   ],
   "source": [
    "print(\"Random Forest Regressor\")\n",
    "print(\"-----------------------\")\n",
    "print(\"MSE Train:\")\n",
    "print(np.mean(mse_train_rf_list))\n",
    "print(\"r2 Train:\")\n",
    "print(np.mean(r2_train_rf))\n",
    "print(\"MSE Test:\")\n",
    "print(np.mean(mse_test_rf))\n",
    "print(\"r2 Test:\")\n",
    "print(np.mean(r2_test_rf))"
   ]
  },
  {
   "cell_type": "code",
   "execution_count": null,
   "metadata": {},
   "outputs": [],
   "source": []
  },
  {
   "cell_type": "code",
   "execution_count": null,
   "metadata": {},
   "outputs": [],
   "source": []
  },
  {
   "cell_type": "code",
   "execution_count": 49,
   "metadata": {},
   "outputs": [
    {
     "name": "stderr",
     "output_type": "stream",
     "text": [
      "C:\\Users\\Maxi\\anaconda3\\lib\\site-packages\\ipykernel_launcher.py:2: DataConversionWarning: A column-vector y was passed when a 1d array was expected. Please change the shape of y to (n_samples,), for example using ravel().\n",
      "  \n"
     ]
    },
    {
     "data": {
      "text/plain": [
       "RandomForestRegressor(bootstrap=True, ccp_alpha=0.0, criterion='mse',\n",
       "                      max_depth=None, max_features='auto', max_leaf_nodes=None,\n",
       "                      max_samples=None, min_impurity_decrease=0.0,\n",
       "                      min_impurity_split=None, min_samples_leaf=1,\n",
       "                      min_samples_split=2, min_weight_fraction_leaf=0.0,\n",
       "                      n_estimators=100, n_jobs=None, oob_score=False,\n",
       "                      random_state=None, verbose=0, warm_start=False)"
      ]
     },
     "execution_count": 49,
     "metadata": {},
     "output_type": "execute_result"
    }
   ],
   "source": [
    "rf_prod = RandomForestRegressor()\n",
    "rf_prod.fit(X, y)"
   ]
  },
  {
   "cell_type": "code",
   "execution_count": 50,
   "metadata": {},
   "outputs": [
    {
     "name": "stdout",
     "output_type": "stream",
     "text": [
      "Random Forest Regressor\n",
      "-----------------------\n",
      "MSE Production:\n",
      "44020.62961504125\n",
      "r2 Production:\n",
      "0.6388567925967146\n"
     ]
    }
   ],
   "source": [
    "predictions_prod_rf = rf_prod.predict(X)\n",
    "mse_prod_rf = mean_squared_error(y, predictions_prod_rf)\n",
    "r2_prod_rf = r2_score(y, predictions_prod_rf)\n",
    "\n",
    "print(\"Random Forest Regressor\")\n",
    "print(\"-----------------------\")\n",
    "print(\"MSE Production:\")\n",
    "print(mse_prod_rf)\n",
    "print(\"r2 Production:\")\n",
    "print(r2_prod_rf)"
   ]
  },
  {
   "cell_type": "code",
   "execution_count": 51,
   "metadata": {},
   "outputs": [
    {
     "data": {
      "image/png": "[encoded data removed]",
      "text/plain": [
       "<Figure size 432x288 with 1 Axes>"
      ]
     },
     "metadata": {
      "needs_background": "light"
     },
     "output_type": "display_data"
    }
   ],
   "source": [
    "plt.scatter(predictions_prod_rf, y)\n",
    "plt.title(\"LM PROD Predicted vs Actual\")\n",
    "plt.xlabel(\"predicted\")\n",
    "plt.ylabel(\"actual\")\n",
    "\n",
    "plt.show()"
   ]
  },
  {
   "cell_type": "code",
   "execution_count": 52,
   "metadata": {},
   "outputs": [],
   "source": [
    "import pickle"
   ]
  },
  {
   "cell_type": "code",
   "execution_count": 53,
   "metadata": {},
   "outputs": [],
   "source": [
    "# save the model to disk\n",
    "filename = 'ml_rf_fp.sav'\n",
    "pickle.dump(rf_prod, open(filename, 'wb'))"
   ]
  },
  {
   "cell_type": "code",
   "execution_count": 54,
   "metadata": {},
   "outputs": [],
   "source": [
    "my_prod_model = pickle.load(open('ml_rf_fp.sav', 'rb'))"
   ]
  },
  {
   "cell_type": "code",
   "execution_count": 63,
   "metadata": {},
   "outputs": [],
   "source": [
    "#Inputs\n",
    "origin_airport = \"ABQ\"\n",
    "destination_airport = \"BOS\""
   ]
  },
  {
   "cell_type": "code",
   "execution_count": 64,
   "metadata": {},
   "outputs": [
    {
     "name": "stdout",
     "output_type": "stream",
     "text": [
      "-35.04022 -106.60918999999998\n",
      "-42.36435 -71.00518000000002\n"
     ]
    }
   ],
   "source": [
    "#Get Latitude and Longitude\n",
    "or_lat = -df.loc[df.Origin==origin_airport,'Origin_Lat'].values[0]\n",
    "or_long = df.loc[df.Origin==origin_airport,'Origin_Long'].values[0]\n",
    "de_lat = -df.loc[df.Origin==destination_airport,'Origin_Lat'].values[0]\n",
    "de_long = df.loc[df.Origin==destination_airport,'Origin_Long'].values[0]\n",
    "\n",
    "print(or_lat, or_long)\n",
    "print(de_lat, de_long)"
   ]
  },
  {
   "cell_type": "code",
   "execution_count": 65,
   "metadata": {},
   "outputs": [],
   "source": [
    "#Distance Calculator\n",
    "def haversine_distance(or_lat, or_long, de_lat, de_long):\n",
    "   r = 6371\n",
    "   phi1 = np.radians(or_lat)\n",
    "   phi2 = np.radians(de_lat)\n",
    "   delta_phi = np.radians(de_lat - or_lat)\n",
    "   delta_lambda = np.radians(de_long - or_long)\n",
    "   a = np.sin(delta_phi / 2)**2 + np.cos(phi1) * np.cos(phi2) *   np.sin(delta_lambda / 2)**2\n",
    "   res = r * (2 * np.arctan2(np.sqrt(a), np.sqrt(1 - a)))\n",
    "   return np.round(res, 2)"
   ]
  },
  {
   "cell_type": "code",
   "execution_count": 66,
   "metadata": {},
   "outputs": [
    {
     "data": {
      "text/plain": [
       "1969.7056178"
      ]
     },
     "execution_count": 66,
     "metadata": {},
     "output_type": "execute_result"
    }
   ],
   "source": [
    "#Convert to miles\n",
    "km = haversine_distance(or_lat, or_long, de_lat, de_long)\n",
    "mi = km * 0.62137\n",
    "mi"
   ]
  },
  {
   "cell_type": "code",
   "execution_count": 67,
   "metadata": {},
   "outputs": [],
   "source": [
    "#Observations\n",
    "number_coupons = 1\n",
    "miles = mi\n",
    "origin_lat = or_lat\n",
    "origin_long = or_long\n",
    "destination_lat = de_lat\n",
    "destination_long = de_long"
   ]
  },
  {
   "cell_type": "code",
   "execution_count": 68,
   "metadata": {},
   "outputs": [],
   "source": [
    "new_obs = [[number_coupons, miles, origin_lat, origin_long, destination_lat, destination_long]]"
   ]
  },
  {
   "cell_type": "code",
   "execution_count": 69,
   "metadata": {},
   "outputs": [],
   "source": [
    "fare = my_prod_model.predict(new_obs)"
   ]
  },
  {
   "cell_type": "code",
   "execution_count": 70,
   "metadata": {},
   "outputs": [
    {
     "name": "stdout",
     "output_type": "stream",
     "text": [
      "['$977.10']\n"
     ]
    }
   ],
   "source": [
    "print(list(map('${:.2f}'.format,fare)))"
   ]
  },
  {
   "cell_type": "code",
   "execution_count": null,
   "metadata": {},
   "outputs": [],
   "source": []
  },
  {
   "cell_type": "code",
   "execution_count": null,
   "metadata": {},
   "outputs": [],
   "source": []
  }
 ],
 "metadata": {
  "kernelspec": {
   "display_name": "Python 3",
   "language": "python",
   "name": "python3"
  },
  "language_info": {
   "codemirror_mode": {
    "name": "ipython",
    "version": 3
   },
   "file_extension": ".py",
   "mimetype": "text/x-python",
   "name": "python",
   "nbconvert_exporter": "python",
   "pygments_lexer": "ipython3",
   "version": "3.7.6"
  }
 },
 "nbformat": 4,
 "nbformat_minor": 4
}
